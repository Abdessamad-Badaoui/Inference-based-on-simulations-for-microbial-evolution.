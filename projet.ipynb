{
 "cells": [
  {
   "cell_type": "markdown",
   "id": "2238b61a",
   "metadata": {},
   "source": [
    "### Binary Search Algorithm"
   ]
  },
  {
   "cell_type": "code",
   "execution_count": 7,
   "id": "53f15d53",
   "metadata": {
    "vscode": {
     "languageId": "r"
    }
   },
   "outputs": [
    {
     "name": "stderr",
     "output_type": "stream",
     "text": [
      "Loading required package: abc.data\n",
      "\n",
      "Loading required package: nnet\n",
      "\n",
      "Loading required package: quantreg\n",
      "\n",
      "Loading required package: SparseM\n",
      "\n",
      "\n",
      "Attaching package: ‘SparseM’\n",
      "\n",
      "\n",
      "The following object is masked from ‘package:base’:\n",
      "\n",
      "    backsolve\n",
      "\n",
      "\n",
      "Loading required package: MASS\n",
      "\n",
      "Loading required package: locfit\n",
      "\n",
      "locfit 1.5-9.7 \t 2023-01-02\n",
      "\n"
     ]
    },
    {
     "data": {
      "image/png": "[encoded data removed]",
      "text/plain": [
       "Plot with title “Histogram of challengeA[challengeA < filtre]”"
      ]
     },
     "metadata": {
      "image/png": {
       "height": 420,
       "width": 420
      }
     },
     "output_type": "display_data"
    }
   ],
   "source": [
    "library(abc)\n",
    "challengeA = scan(\"dataChallengeB7e-6.txt\")\n",
    "\n",
    "filtre = 10*median(challengeA)\n",
    "\n",
    "#hist(challengeA, freq=FALSE)\n",
    "hist(challengeA[challengeA<filtre])"
   ]
  },
  {
   "cell_type": "markdown",
   "id": "9f35b5e0",
   "metadata": {},
   "source": []
  },
  {
   "cell_type": "code",
   "execution_count": 8,
   "id": "891dd201",
   "metadata": {
    "scrolled": true,
    "vscode": {
     "languageId": "r"
    }
   },
   "outputs": [
    {
     "data": {
      "image/png": "[encoded data removed]",
      "text/plain": [
       "plot without title"
      ]
     },
     "metadata": {
      "image/png": {
       "height": 420,
       "width": 420
      }
     },
     "output_type": "display_data"
    }
   ],
   "source": [
    "x = c(1:filtre)\n",
    "y = c(1:filtre)\n",
    "\n",
    "i = 0\n",
    "for(i in 1:filtre) {\n",
    "    y[i] = sum(challengeA == i)\n",
    "}\n",
    "\n",
    "plot(x, y, type=\"h\")"
   ]
  },
  {
   "cell_type": "code",
   "execution_count": 9,
   "id": "ad6d09c6",
   "metadata": {
    "vscode": {
     "languageId": "r"
    }
   },
   "outputs": [
    {
     "name": "stderr",
     "output_type": "stream",
     "text": [
      "Warning message in ks.test(TauxMutation, challengeA[challengeA < filtre]):\n",
      "“p-value will be approximate in the presence of ties”\n",
      "Warning message in ks.test(TauxMutation, challengeA[challengeA < filtre]):\n",
      "“p-value will be approximate in the presence of ties”\n",
      "Warning message in ks.test(TauxMutation, challengeA[challengeA < filtre]):\n",
      "“p-value will be approximate in the presence of ties”\n",
      "Warning message in ks.test(TauxMutation, challengeA[challengeA < filtre]):\n",
      "“p-value will be approximate in the presence of ties”\n",
      "Warning message in ks.test(TauxMutation, challengeA[challengeA < filtre]):\n",
      "“p-value will be approximate in the presence of ties”\n",
      "Warning message in ks.test(TauxMutation, challengeA[challengeA < filtre]):\n",
      "“p-value will be approximate in the presence of ties”\n",
      "Warning message in ks.test(TauxMutation, challengeA[challengeA < filtre]):\n",
      "“p-value will be approximate in the presence of ties”\n",
      "Warning message in ks.test(TauxMutation, challengeA[challengeA < filtre]):\n",
      "“p-value will be approximate in the presence of ties”\n",
      "Warning message in ks.test(TauxMutation, challengeA[challengeA < filtre]):\n",
      "“p-value will be approximate in the presence of ties”\n",
      "Warning message in ks.test(TauxMutation, challengeA[challengeA < filtre]):\n",
      "“p-value will be approximate in the presence of ties”\n",
      "Warning message in ks.test(TauxMutation, challengeA[challengeA < filtre]):\n",
      "“p-value will be approximate in the presence of ties”\n",
      "Warning message in ks.test(TauxMutation, challengeA[challengeA < filtre]):\n",
      "“p-value will be approximate in the presence of ties”\n",
      "Warning message in ks.test(TauxMutation, challengeA[challengeA < filtre]):\n",
      "“p-value will be approximate in the presence of ties”\n",
      "Warning message in ks.test(TauxMutation, challengeA[challengeA < filtre]):\n",
      "“p-value will be approximate in the presence of ties”\n",
      "Warning message in ks.test(TauxMutation, challengeA[challengeA < filtre]):\n",
      "“p-value will be approximate in the presence of ties”\n",
      "Warning message in ks.test(TauxMutation, challengeA[challengeA < filtre]):\n",
      "“p-value will be approximate in the presence of ties”\n",
      "Warning message in ks.test(TauxMutation, challengeA[challengeA < filtre]):\n",
      "“p-value will be approximate in the presence of ties”\n",
      "Warning message in ks.test(TauxMutation, challengeA[challengeA < filtre]):\n",
      "“p-value will be approximate in the presence of ties”\n",
      "Warning message in ks.test(TauxMutation, challengeA[challengeA < filtre]):\n",
      "“p-value will be approximate in the presence of ties”\n",
      "Warning message in ks.test(TauxMutation, challengeA[challengeA < filtre]):\n",
      "“p-value will be approximate in the presence of ties”\n",
      "Warning message in ks.test(TauxMutation, challengeA[challengeA < filtre]):\n",
      "“p-value will be approximate in the presence of ties”\n",
      "Warning message in ks.test(TauxMutation, challengeA[challengeA < filtre]):\n",
      "“p-value will be approximate in the presence of ties”\n",
      "Warning message in ks.test(TauxMutation, challengeA[challengeA < filtre]):\n",
      "“p-value will be approximate in the presence of ties”\n",
      "Warning message in ks.test(TauxMutation, challengeA[challengeA < filtre]):\n",
      "“p-value will be approximate in the presence of ties”\n",
      "Warning message in ks.test(TauxMutation, challengeA[challengeA < filtre]):\n",
      "“p-value will be approximate in the presence of ties”\n",
      "Warning message in ks.test(TauxMutation, challengeA[challengeA < filtre]):\n",
      "“p-value will be approximate in the presence of ties”\n",
      "Warning message in ks.test(TauxMutation, challengeA[challengeA < filtre]):\n",
      "“p-value will be approximate in the presence of ties”\n",
      "Warning message in ks.test(TauxMutation, challengeA[challengeA < filtre]):\n",
      "“p-value will be approximate in the presence of ties”\n",
      "Warning message in ks.test(TauxMutation, challengeA[challengeA < filtre]):\n",
      "“p-value will be approximate in the presence of ties”\n",
      "Warning message in ks.test(TauxMutation, challengeA[challengeA < filtre]):\n",
      "“p-value will be approximate in the presence of ties”\n",
      "Warning message in ks.test(TauxMutation, challengeA[challengeA < filtre]):\n",
      "“p-value will be approximate in the presence of ties”\n",
      "Warning message in ks.test(TauxMutation, challengeA[challengeA < filtre]):\n",
      "“p-value will be approximate in the presence of ties”\n",
      "Warning message in ks.test(TauxMutation, challengeA[challengeA < filtre]):\n",
      "“p-value will be approximate in the presence of ties”\n",
      "Warning message in ks.test(TauxMutation, challengeA[challengeA < filtre]):\n",
      "“p-value will be approximate in the presence of ties”\n",
      "Warning message in ks.test(TauxMutation, challengeA[challengeA < filtre]):\n",
      "“p-value will be approximate in the presence of ties”\n",
      "Warning message in ks.test(TauxMutation, challengeA[challengeA < filtre]):\n",
      "“p-value will be approximate in the presence of ties”\n",
      "Warning message in ks.test(TauxMutation, challengeA[challengeA < filtre]):\n",
      "“p-value will be approximate in the presence of ties”\n",
      "Warning message in ks.test(TauxMutation, challengeA[challengeA < filtre]):\n",
      "“p-value will be approximate in the presence of ties”\n",
      "Warning message in ks.test(TauxMutation, challengeA[challengeA < filtre]):\n",
      "“p-value will be approximate in the presence of ties”\n",
      "Warning message in ks.test(TauxMutation, challengeA[challengeA < filtre]):\n",
      "“p-value will be approximate in the presence of ties”\n",
      "Warning message in ks.test(TauxMutation, challengeA[challengeA < filtre]):\n",
      "“p-value will be approximate in the presence of ties”\n",
      "Warning message in ks.test(TauxMutation, challengeA[challengeA < filtre]):\n",
      "“p-value will be approximate in the presence of ties”\n",
      "Warning message in ks.test(TauxMutation, challengeA[challengeA < filtre]):\n",
      "“p-value will be approximate in the presence of ties”\n",
      "Warning message in ks.test(TauxMutation, challengeA[challengeA < filtre]):\n",
      "“p-value will be approximate in the presence of ties”\n",
      "Warning message in ks.test(TauxMutation, challengeA[challengeA < filtre]):\n",
      "“p-value will be approximate in the presence of ties”\n",
      "Warning message in ks.test(TauxMutation, challengeA[challengeA < filtre]):\n",
      "“p-value will be approximate in the presence of ties”\n",
      "Warning message in ks.test(TauxMutation, challengeA[challengeA < filtre]):\n",
      "“p-value will be approximate in the presence of ties”\n",
      "Warning message in ks.test(TauxMutation, challengeA[challengeA < filtre]):\n",
      "“p-value will be approximate in the presence of ties”\n",
      "Warning message in ks.test(TauxMutation, challengeA[challengeA < filtre]):\n",
      "“p-value will be approximate in the presence of ties”\n",
      "Warning message in ks.test(TauxMutation, challengeA[challengeA < filtre]):\n",
      "“p-value will be approximate in the presence of ties”\n",
      "Warning message in ks.test(TauxMutation, challengeA[challengeA < filtre]):\n",
      "“p-value will be approximate in the presence of ties”\n"
     ]
    },
    {
     "data": {
      "text/html": [
       "7.425e-06"
      ],
      "text/latex": [
       "7.425e-06"
      ],
      "text/markdown": [
       "7.425e-06"
      ],
      "text/plain": [
       "[1] 7.425e-06"
      ]
     },
     "metadata": {},
     "output_type": "display_data"
    },
    {
     "data": {
      "text/html": [
       "<strong>D:</strong> 0.0565886096605744"
      ],
      "text/latex": [
       "\\textbf{D:} 0.0565886096605744"
      ],
      "text/markdown": [
       "**D:** 0.0565886096605744"
      ],
      "text/plain": [
       "         D \n",
       "0.05658861 "
      ]
     },
     "metadata": {},
     "output_type": "display_data"
    }
   ],
   "source": [
    "mu_init = median(challengeA)/1e7\n",
    "commande = sprintf(\"./atreyu_forward_simulator 10,1e7 0 %e 0.7 1 384 | cut -d' ' -f1 > TauxMutation2.txt\", mu_init)\n",
    "system(commande)\n",
    "TauxMutation = scan(\"TauxMutation2.txt\")\n",
    "test_ks = ks.test(TauxMutation, challengeA[challengeA < filtre])\n",
    "distance_to_curve = test_ks$statistic\n",
    "p_value = test_ks$p.value\n",
    "mouvement_gauche = TRUE\n",
    "mouvement_droite = TRUE\n",
    "pas = mu_init/4\n",
    "counter = 0\n",
    "cmax = 20\n",
    "\n",
    "while (distance_to_curve > 0.05) {\n",
    "    mu_gauche = max(mu_init - pas, 1e-7)\n",
    "    mu_droite = mu_init + pas\n",
    "    distance_to_curve_gauche = 0\n",
    "    p_value_gauche = 0\n",
    "    commande_gauche = sprintf(\"./atreyu_forward_simulator 10,1e7 0 %e 0.7 1 3840 | cut -d' ' -f1 > TauxMutation2.txt\", mu_gauche)\n",
    "    \n",
    "    system(commande_gauche)\n",
    "    TauxMutation = scan(\"TauxMutation2.txt\")\n",
    "    test_ks = ks.test(TauxMutation, challengeA[challengeA < filtre])\n",
    "    distance_to_curve_gauche = test_ks$statistic\n",
    "    p_value_gauche = test_ks$p.value\n",
    "        \n",
    "    distance_to_curve_droite = 0\n",
    "    p_value_droite = 0\n",
    "    commande_droite = sprintf(\"./atreyu_forward_simulator 10,1e7 0 %e 0.7 1 3840 | cut -d' ' -f1 > TauxMutation2.txt\", mu_droite)\n",
    "    \n",
    "    system(commande_droite)\n",
    "    TauxMutation = scan(\"TauxMutation2.txt\")\n",
    "    test_ks = ks.test(TauxMutation, challengeA[challengeA < filtre])\n",
    "    distance_to_curve_droite = test_ks$statistic\n",
    "    p_value_droite = test_ks$p.value\n",
    "\n",
    "        \n",
    "    if ((distance_to_curve_droite < distance_to_curve_gauche) && (distance_to_curve_droite < distance_to_curve)) {\n",
    "        mouvement_gauche = FALSE\n",
    "        if (!mouvement_droite) {\n",
    "            if (pas > median(challengeA)/1e8) {\n",
    "                pas = pas/2\n",
    "            }\n",
    "            mouvement_droite = TRUE\n",
    "        }\n",
    "        # if (distance_to_curve_droite == distance_to_curve) {\n",
    "        #     counter = counter + 1\n",
    "        # }\n",
    "        # else {\n",
    "        #     counter = 0\n",
    "        # }\n",
    "        counter = 0\n",
    "        distance_to_curve = distance_to_curve_droite\n",
    "        mu_init = mu_droite\n",
    "    }\n",
    "    else if ((distance_to_curve_gauche < distance_to_curve_droite) && (distance_to_curve_gauche < distance_to_curve)) {\n",
    "        mouvement_droite = FALSE\n",
    "        if (!mouvement_gauche) {\n",
    "            if (pas > median(challengeA)/1e8) {\n",
    "                pas = pas/2\n",
    "            }\n",
    "            mouvement_gauche = TRUE\n",
    "        }\n",
    "        # if (distance_to_curve_gauche == distance_to_curve) {\n",
    "        #     counter = counter + 1\n",
    "        # }\n",
    "        # else {\n",
    "        #     counter = 0\n",
    "        # }\n",
    "        counter = 0\n",
    "        distance_to_curve = distance_to_curve_gauche\n",
    "        mu_init = mu_gauche\n",
    "    }\n",
    "    else {\n",
    "        mouvement_droite = TRUE\n",
    "        mouvement_gauche = TRUE\n",
    "        counter = counter + 1\n",
    "        if (pas > median(challengeA)/1e8) {\n",
    "                pas = pas/2\n",
    "        }\n",
    "    }\n",
    "    if (counter > cmax) {\n",
    "        break\n",
    "    }\n",
    "}\n",
    "\n",
    "mu_init\n",
    "distance_to_curve\n"
   ]
  },
  {
   "cell_type": "code",
   "execution_count": 10,
   "id": "9322ed3e",
   "metadata": {
    "vscode": {
     "languageId": "r"
    }
   },
   "outputs": [
    {
     "name": "stderr",
     "output_type": "stream",
     "text": [
      "Warning message in ks.test(TauxMutation, challengeA[challengeA < 40]):\n",
      "“p-value will be approximate in the presence of ties”\n"
     ]
    },
    {
     "data": {
      "text/html": [
       "<strong>D:</strong> 0.224860564304462"
      ],
      "text/latex": [
       "\\textbf{D:} 0.224860564304462"
      ],
      "text/markdown": [
       "**D:** 0.224860564304462"
      ],
      "text/plain": [
       "        D \n",
       "0.2248606 "
      ]
     },
     "metadata": {},
     "output_type": "display_data"
    },
    {
     "name": "stderr",
     "output_type": "stream",
     "text": [
      "Warning message in ks.test(TauxMutation, challengeA[challengeA < 40]):\n",
      "“p-value will be approximate in the presence of ties”\n"
     ]
    },
    {
     "data": {
      "text/html": [
       "<strong>D:</strong> 0.0548720472440945"
      ],
      "text/latex": [
       "\\textbf{D:} 0.0548720472440945"
      ],
      "text/markdown": [
       "**D:** 0.0548720472440945"
      ],
      "text/plain": [
       "         D \n",
       "0.05487205 "
      ]
     },
     "metadata": {},
     "output_type": "display_data"
    }
   ],
   "source": [
    "challengeA = scan(\"datachallengeA\")\n",
    "mu_init = median(challengeA)/1e7\n",
    "commande = sprintf(\"./atreyu_forward_simulator 10,1e7 0 2.3e-7 0.7 1 384 | cut -d' ' -f1 > TauxMutation2.txt\")\n",
    "system(commande)\n",
    "TauxMutation = scan(\"TauxMutation2.txt\")\n",
    "test_ks = ks.test(TauxMutation, challengeA[challengeA < 40])\n",
    "distance_to_curve_1 = test_ks$statistic\n",
    "p_value = test_ks$p.value\n",
    "\n",
    "distance_to_curve_1\n",
    "\n",
    "commande = sprintf(\"./atreyu_forward_simulator 10,1e7 0 1.41e-7 0.7 1 384 | cut -d' ' -f1 > TauxMutation2.txt\")\n",
    "system(commande)\n",
    "TauxMutation = scan(\"TauxMutation2.txt\")\n",
    "test_ks = ks.test(TauxMutation, challengeA[challengeA < 40])\n",
    "distance_to_curve = test_ks$statistic\n",
    "p_value = test_ks$p.value\n",
    "\n",
    "distance_to_curve\n",
    "\n"
   ]
  },
  {
   "cell_type": "code",
   "execution_count": 11,
   "id": "681b7753",
   "metadata": {
    "vscode": {
     "languageId": "r"
    }
   },
   "outputs": [
    {
     "data": {
      "image/png": "[encoded data removed]",
      "text/plain": [
       "Plot with title “Fonctions de repartition”"
      ]
     },
     "metadata": {
      "image/png": {
       "height": 420,
       "width": 420
      }
     },
     "output_type": "display_data"
    }
   ],
   "source": [
    "F_challenge <- ecdf(challengeA)\n",
    "F_tauxMutation <- ecdf(TauxMutation)\n",
    "\n",
    "plot(F_challenge, verticals = TRUE, xlim = c(0, 40), main = \"Fonctions de repartition\", col = \"blue\")\n",
    "\n",
    "lines(F_tauxMutation, verticals = TRUE, xlim = c(0, 40), col = \"red\")\n"
   ]
  },
  {
   "cell_type": "markdown",
   "id": "38b6d5d5",
   "metadata": {},
   "source": [
    "On a utilisé l'approche dichotomique d'une manière automatisée.\n",
    "\n",
    "On va essayer de confirmer les résultats obtenu au moyen d'autres méthodes."
   ]
  },
  {
   "cell_type": "markdown",
   "id": "017b0a5a",
   "metadata": {},
   "source": [
    "### Rétrécissement d'intervalle"
   ]
  },
  {
   "cell_type": "code",
   "execution_count": 12,
   "id": "900fad3b",
   "metadata": {
    "scrolled": true,
    "vscode": {
     "languageId": "r"
    }
   },
   "outputs": [
    {
     "name": "stderr",
     "output_type": "stream",
     "text": [
      "Warning message in ks.test(generated_data, reference_data):\n",
      "“p-value will be approximate in the presence of ties”\n",
      "Warning message in ks.test(generated_data, reference_data):\n",
      "“p-value will be approximate in the presence of ties”\n",
      "Warning message in ks.test(generated_data, reference_data):\n",
      "“p-value will be approximate in the presence of ties”\n",
      "Warning message in ks.test(generated_data, reference_data):\n",
      "“p-value will be approximate in the presence of ties”\n",
      "Warning message in ks.test(generated_data, reference_data):\n",
      "“p-value will be approximate in the presence of ties”\n",
      "Warning message in ks.test(generated_data, reference_data):\n",
      "“p-value will be approximate in the presence of ties”\n",
      "Warning message in ks.test(generated_data, reference_data):\n",
      "“p-value will be approximate in the presence of ties”\n",
      "Warning message in ks.test(generated_data, reference_data):\n",
      "“p-value will be approximate in the presence of ties”\n",
      "Warning message in ks.test(generated_data, reference_data):\n",
      "“p-value will be approximate in the presence of ties”\n",
      "Warning message in ks.test(generated_data, reference_data):\n",
      "“p-value will be approximate in the presence of ties”\n",
      "Warning message in ks.test(generated_data, reference_data):\n",
      "“p-value will be approximate in the presence of ties”\n",
      "Warning message in ks.test(generated_data, reference_data):\n",
      "“p-value will be approximate in the presence of ties”\n",
      "Warning message in ks.test(generated_data, reference_data):\n",
      "“p-value will be approximate in the presence of ties”\n",
      "Warning message in ks.test(generated_data, reference_data):\n",
      "“p-value will be approximate in the presence of ties”\n",
      "Warning message in ks.test(generated_data, reference_data):\n",
      "“p-value will be approximate in the presence of ties”\n",
      "Warning message in ks.test(generated_data, reference_data):\n",
      "“p-value will be approximate in the presence of ties”\n",
      "Warning message in ks.test(generated_data, reference_data):\n",
      "“p-value will be approximate in the presence of ties”\n",
      "Warning message in ks.test(generated_data, reference_data):\n",
      "“p-value will be approximate in the presence of ties”\n",
      "Warning message in ks.test(generated_data, reference_data):\n",
      "“p-value will be approximate in the presence of ties”\n",
      "Warning message in ks.test(generated_data, reference_data):\n",
      "“p-value will be approximate in the presence of ties”\n",
      "Warning message in ks.test(generated_data, reference_data):\n",
      "“p-value will be approximate in the presence of ties”\n",
      "Warning message in ks.test(generated_data, reference_data):\n",
      "“p-value will be approximate in the presence of ties”\n",
      "Warning message in ks.test(generated_data, reference_data):\n",
      "“p-value will be approximate in the presence of ties”\n",
      "Warning message in ks.test(generated_data, reference_data):\n",
      "“p-value will be approximate in the presence of ties”\n",
      "Warning message in ks.test(generated_data, reference_data):\n",
      "“p-value will be approximate in the presence of ties”\n",
      "Warning message in ks.test(generated_data, reference_data):\n",
      "“p-value will be approximate in the presence of ties”\n",
      "Warning message in ks.test(generated_data, reference_data):\n",
      "“p-value will be approximate in the presence of ties”\n",
      "Warning message in ks.test(generated_data, reference_data):\n",
      "“p-value will be approximate in the presence of ties”\n",
      "Warning message in ks.test(generated_data, reference_data):\n",
      "“p-value will be approximate in the presence of ties”\n",
      "Warning message in ks.test(generated_data, reference_data):\n",
      "“p-value will be approximate in the presence of ties”\n",
      "Warning message in ks.test(generated_data, reference_data):\n",
      "“p-value will be approximate in the presence of ties”\n",
      "Warning message in ks.test(generated_data, reference_data):\n",
      "“p-value will be approximate in the presence of ties”\n",
      "Warning message in ks.test(generated_data, reference_data):\n",
      "“p-value will be approximate in the presence of ties”\n",
      "Warning message in ks.test(generated_data, reference_data):\n",
      "“p-value will be approximate in the presence of ties”\n",
      "Warning message in ks.test(generated_data, reference_data):\n",
      "“p-value will be approximate in the presence of ties”\n",
      "Warning message in ks.test(generated_data, reference_data):\n",
      "“p-value will be approximate in the presence of ties”\n",
      "Warning message in ks.test(generated_data, reference_data):\n",
      "“p-value will be approximate in the presence of ties”\n",
      "Warning message in ks.test(generated_data, reference_data):\n",
      "“p-value will be approximate in the presence of ties”\n",
      "Warning message in ks.test(generated_data, reference_data):\n",
      "“p-value will be approximate in the presence of ties”\n",
      "Warning message in ks.test(generated_data, reference_data):\n",
      "“p-value will be approximate in the presence of ties”\n",
      "Warning message in ks.test(generated_data, reference_data):\n",
      "“p-value will be approximate in the presence of ties”\n",
      "Warning message in ks.test(generated_data, reference_data):\n",
      "“p-value will be approximate in the presence of ties”\n",
      "Warning message in ks.test(generated_data, reference_data):\n",
      "“p-value will be approximate in the presence of ties”\n",
      "Warning message in ks.test(generated_data, reference_data):\n",
      "“p-value will be approximate in the presence of ties”\n",
      "Warning message in ks.test(generated_data, reference_data):\n",
      "“p-value will be approximate in the presence of ties”\n",
      "Warning message in ks.test(generated_data, reference_data):\n",
      "“p-value will be approximate in the presence of ties”\n",
      "Warning message in ks.test(generated_data, reference_data):\n",
      "“p-value will be approximate in the presence of ties”\n",
      "Warning message in ks.test(generated_data, reference_data):\n",
      "“p-value will be approximate in the presence of ties”\n",
      "Warning message in ks.test(generated_data, reference_data):\n",
      "“p-value will be approximate in the presence of ties”\n",
      "Warning message in ks.test(generated_data, reference_data):\n",
      "“p-value will be approximate in the presence of ties”\n",
      "Warning message in ks.test(generated_data, reference_data):\n",
      "“p-value will be approximate in the presence of ties”\n",
      "Warning message in ks.test(generated_data, reference_data):\n",
      "“p-value will be approximate in the presence of ties”\n",
      "Warning message in ks.test(generated_data, reference_data):\n",
      "“p-value will be approximate in the presence of ties”\n",
      "Warning message in ks.test(generated_data, reference_data):\n",
      "“p-value will be approximate in the presence of ties”\n",
      "Warning message in ks.test(generated_data, reference_data):\n",
      "“p-value will be approximate in the presence of ties”\n",
      "Warning message in ks.test(generated_data, reference_data):\n",
      "“p-value will be approximate in the presence of ties”\n",
      "Warning message in ks.test(generated_data, reference_data):\n",
      "“p-value will be approximate in the presence of ties”\n",
      "Warning message in ks.test(generated_data, reference_data):\n",
      "“p-value will be approximate in the presence of ties”\n",
      "Warning message in ks.test(generated_data, reference_data):\n",
      "“p-value will be approximate in the presence of ties”\n",
      "Warning message in ks.test(generated_data, reference_data):\n",
      "“p-value will be approximate in the presence of ties”\n",
      "Warning message in ks.test(generated_data, reference_data):\n",
      "“p-value will be approximate in the presence of ties”\n",
      "Warning message in ks.test(generated_data, reference_data):\n",
      "“p-value will be approximate in the presence of ties”\n",
      "Warning message in ks.test(generated_data, reference_data):\n",
      "“p-value will be approximate in the presence of ties”\n",
      "Warning message in ks.test(generated_data, reference_data):\n",
      "“p-value will be approximate in the presence of ties”\n",
      "Warning message in ks.test(generated_data, reference_data):\n",
      "“p-value will be approximate in the presence of ties”\n",
      "Warning message in ks.test(generated_data, reference_data):\n",
      "“p-value will be approximate in the presence of ties”\n",
      "Warning message in ks.test(generated_data, reference_data):\n",
      "“p-value will be approximate in the presence of ties”\n",
      "Warning message in ks.test(generated_data, reference_data):\n",
      "“p-value will be approximate in the presence of ties”\n",
      "Warning message in ks.test(generated_data, reference_data):\n",
      "“p-value will be approximate in the presence of ties”\n",
      "Warning message in ks.test(generated_data, reference_data):\n",
      "“p-value will be approximate in the presence of ties”\n",
      "Warning message in ks.test(generated_data, reference_data):\n",
      "“p-value will be approximate in the presence of ties”\n",
      "Warning message in ks.test(generated_data, reference_data):\n",
      "“p-value will be approximate in the presence of ties”\n"
     ]
    },
    {
     "name": "stderr",
     "output_type": "stream",
     "text": [
      "Warning message in ks.test(generated_data, reference_data):\n",
      "“p-value will be approximate in the presence of ties”\n",
      "Warning message in ks.test(generated_data, reference_data):\n",
      "“p-value will be approximate in the presence of ties”\n",
      "Warning message in ks.test(generated_data, reference_data):\n",
      "“p-value will be approximate in the presence of ties”\n",
      "Warning message in ks.test(generated_data, reference_data):\n",
      "“p-value will be approximate in the presence of ties”\n",
      "Warning message in ks.test(generated_data, reference_data):\n",
      "“p-value will be approximate in the presence of ties”\n",
      "Warning message in ks.test(generated_data, reference_data):\n",
      "“p-value will be approximate in the presence of ties”\n",
      "Warning message in ks.test(generated_data, reference_data):\n",
      "“p-value will be approximate in the presence of ties”\n",
      "Warning message in ks.test(generated_data, reference_data):\n",
      "“p-value will be approximate in the presence of ties”\n",
      "Warning message in ks.test(generated_data, reference_data):\n",
      "“p-value will be approximate in the presence of ties”\n",
      "Warning message in ks.test(generated_data, reference_data):\n",
      "“p-value will be approximate in the presence of ties”\n",
      "Warning message in ks.test(generated_data, reference_data):\n",
      "“p-value will be approximate in the presence of ties”\n",
      "Warning message in ks.test(generated_data, reference_data):\n",
      "“p-value will be approximate in the presence of ties”\n",
      "Warning message in ks.test(generated_data, reference_data):\n",
      "“p-value will be approximate in the presence of ties”\n",
      "Warning message in ks.test(generated_data, reference_data):\n",
      "“p-value will be approximate in the presence of ties”\n",
      "Warning message in ks.test(generated_data, reference_data):\n",
      "“p-value will be approximate in the presence of ties”\n",
      "Warning message in ks.test(generated_data, reference_data):\n",
      "“p-value will be approximate in the presence of ties”\n",
      "Warning message in ks.test(generated_data, reference_data):\n",
      "“p-value will be approximate in the presence of ties”\n",
      "Warning message in ks.test(generated_data, reference_data):\n",
      "“p-value will be approximate in the presence of ties”\n",
      "Warning message in ks.test(generated_data, reference_data):\n",
      "“p-value will be approximate in the presence of ties”\n",
      "Warning message in ks.test(generated_data, reference_data):\n",
      "“p-value will be approximate in the presence of ties”\n",
      "Warning message in ks.test(generated_data, reference_data):\n",
      "“p-value will be approximate in the presence of ties”\n",
      "Warning message in ks.test(generated_data, reference_data):\n",
      "“p-value will be approximate in the presence of ties”\n",
      "Warning message in ks.test(generated_data, reference_data):\n",
      "“p-value will be approximate in the presence of ties”\n",
      "Warning message in ks.test(generated_data, reference_data):\n",
      "“p-value will be approximate in the presence of ties”\n",
      "Warning message in ks.test(generated_data, reference_data):\n",
      "“p-value will be approximate in the presence of ties”\n",
      "Warning message in ks.test(generated_data, reference_data):\n",
      "“p-value will be approximate in the presence of ties”\n",
      "Warning message in ks.test(generated_data, reference_data):\n",
      "“p-value will be approximate in the presence of ties”\n",
      "Warning message in ks.test(generated_data, reference_data):\n",
      "“p-value will be approximate in the presence of ties”\n",
      "Warning message in ks.test(generated_data, reference_data):\n",
      "“p-value will be approximate in the presence of ties”\n",
      "Warning message in ks.test(generated_data, reference_data):\n",
      "“p-value will be approximate in the presence of ties”\n",
      "Warning message in ks.test(generated_data, reference_data):\n",
      "“p-value will be approximate in the presence of ties”\n",
      "Warning message in ks.test(generated_data, reference_data):\n",
      "“p-value will be approximate in the presence of ties”\n",
      "Warning message in ks.test(generated_data, reference_data):\n",
      "“p-value will be approximate in the presence of ties”\n",
      "Warning message in ks.test(generated_data, reference_data):\n",
      "“p-value will be approximate in the presence of ties”\n",
      "Warning message in ks.test(generated_data, reference_data):\n",
      "“p-value will be approximate in the presence of ties”\n",
      "Warning message in ks.test(generated_data, reference_data):\n",
      "“p-value will be approximate in the presence of ties”\n",
      "Warning message in ks.test(generated_data, reference_data):\n",
      "“p-value will be approximate in the presence of ties”\n",
      "Warning message in ks.test(generated_data, reference_data):\n",
      "“p-value will be approximate in the presence of ties”\n",
      "Warning message in ks.test(generated_data, reference_data):\n",
      "“p-value will be approximate in the presence of ties”\n",
      "Warning message in ks.test(generated_data, reference_data):\n",
      "“p-value will be approximate in the presence of ties”\n",
      "Warning message in ks.test(generated_data, reference_data):\n",
      "“p-value will be approximate in the presence of ties”\n",
      "Warning message in ks.test(generated_data, reference_data):\n",
      "“p-value will be approximate in the presence of ties”\n",
      "Warning message in ks.test(generated_data, reference_data):\n",
      "“p-value will be approximate in the presence of ties”\n",
      "Warning message in ks.test(generated_data, reference_data):\n",
      "“p-value will be approximate in the presence of ties”\n",
      "Warning message in ks.test(generated_data, reference_data):\n",
      "“p-value will be approximate in the presence of ties”\n",
      "Warning message in ks.test(generated_data, reference_data):\n",
      "“p-value will be approximate in the presence of ties”\n",
      "Warning message in ks.test(generated_data, reference_data):\n",
      "“p-value will be approximate in the presence of ties”\n",
      "Warning message in ks.test(generated_data, reference_data):\n",
      "“p-value will be approximate in the presence of ties”\n",
      "Warning message in ks.test(generated_data, reference_data):\n",
      "“p-value will be approximate in the presence of ties”\n",
      "Warning message in ks.test(generated_data, reference_data):\n",
      "“p-value will be approximate in the presence of ties”\n",
      "Warning message in ks.test(generated_data, reference_data):\n",
      "“p-value will be approximate in the presence of ties”\n",
      "Warning message in ks.test(generated_data, reference_data):\n",
      "“p-value will be approximate in the presence of ties”\n",
      "Warning message in ks.test(generated_data, reference_data):\n",
      "“p-value will be approximate in the presence of ties”\n",
      "Warning message in ks.test(generated_data, reference_data):\n",
      "“p-value will be approximate in the presence of ties”\n",
      "Warning message in ks.test(generated_data, reference_data):\n",
      "“p-value will be approximate in the presence of ties”\n",
      "Warning message in ks.test(generated_data, reference_data):\n",
      "“p-value will be approximate in the presence of ties”\n",
      "Warning message in ks.test(generated_data, reference_data):\n",
      "“p-value will be approximate in the presence of ties”\n",
      "Warning message in ks.test(generated_data, reference_data):\n",
      "“p-value will be approximate in the presence of ties”\n",
      "Warning message in ks.test(generated_data, reference_data):\n",
      "“p-value will be approximate in the presence of ties”\n",
      "Warning message in ks.test(generated_data, reference_data):\n",
      "“p-value will be approximate in the presence of ties”\n",
      "Warning message in ks.test(generated_data, reference_data):\n",
      "“p-value will be approximate in the presence of ties”\n",
      "Warning message in ks.test(generated_data, reference_data):\n",
      "“p-value will be approximate in the presence of ties”\n",
      "Warning message in ks.test(generated_data, reference_data):\n",
      "“p-value will be approximate in the presence of ties”\n",
      "Warning message in ks.test(generated_data, reference_data):\n",
      "“p-value will be approximate in the presence of ties”\n",
      "Warning message in ks.test(generated_data, reference_data):\n",
      "“p-value will be approximate in the presence of ties”\n",
      "Warning message in ks.test(generated_data, reference_data):\n",
      "“p-value will be approximate in the presence of ties”\n",
      "Warning message in ks.test(generated_data, reference_data):\n",
      "“p-value will be approximate in the presence of ties”\n",
      "Warning message in ks.test(generated_data, reference_data):\n",
      "“p-value will be approximate in the presence of ties”\n",
      "Warning message in ks.test(generated_data, reference_data):\n",
      "“p-value will be approximate in the presence of ties”\n",
      "Warning message in ks.test(generated_data, reference_data):\n",
      "“p-value will be approximate in the presence of ties”\n",
      "Warning message in ks.test(generated_data, reference_data):\n",
      "“p-value will be approximate in the presence of ties”\n",
      "Warning message in ks.test(generated_data, reference_data):\n",
      "“p-value will be approximate in the presence of ties”\n"
     ]
    },
    {
     "name": "stderr",
     "output_type": "stream",
     "text": [
      "Warning message in ks.test(generated_data, reference_data):\n",
      "“p-value will be approximate in the presence of ties”\n",
      "Warning message in ks.test(generated_data, reference_data):\n",
      "“p-value will be approximate in the presence of ties”\n",
      "Warning message in ks.test(generated_data, reference_data):\n",
      "“p-value will be approximate in the presence of ties”\n",
      "Warning message in ks.test(generated_data, reference_data):\n",
      "“p-value will be approximate in the presence of ties”\n",
      "Warning message in ks.test(generated_data, reference_data):\n",
      "“p-value will be approximate in the presence of ties”\n",
      "Warning message in ks.test(generated_data, reference_data):\n",
      "“p-value will be approximate in the presence of ties”\n",
      "Warning message in ks.test(generated_data, reference_data):\n",
      "“p-value will be approximate in the presence of ties”\n",
      "Warning message in ks.test(generated_data, reference_data):\n",
      "“p-value will be approximate in the presence of ties”\n",
      "Warning message in ks.test(generated_data, reference_data):\n",
      "“p-value will be approximate in the presence of ties”\n",
      "Warning message in ks.test(generated_data, reference_data):\n",
      "“p-value will be approximate in the presence of ties”\n",
      "Warning message in ks.test(generated_data, reference_data):\n",
      "“p-value will be approximate in the presence of ties”\n",
      "Warning message in ks.test(generated_data, reference_data):\n",
      "“p-value will be approximate in the presence of ties”\n",
      "Warning message in ks.test(generated_data, reference_data):\n",
      "“p-value will be approximate in the presence of ties”\n",
      "Warning message in ks.test(generated_data, reference_data):\n",
      "“p-value will be approximate in the presence of ties”\n",
      "Warning message in ks.test(generated_data, reference_data):\n",
      "“p-value will be approximate in the presence of ties”\n",
      "Warning message in ks.test(generated_data, reference_data):\n",
      "“p-value will be approximate in the presence of ties”\n",
      "Warning message in ks.test(generated_data, reference_data):\n",
      "“p-value will be approximate in the presence of ties”\n",
      "Warning message in ks.test(generated_data, reference_data):\n",
      "“p-value will be approximate in the presence of ties”\n",
      "Warning message in ks.test(generated_data, reference_data):\n",
      "“p-value will be approximate in the presence of ties”\n",
      "Warning message in ks.test(generated_data, reference_data):\n",
      "“p-value will be approximate in the presence of ties”\n",
      "Warning message in ks.test(generated_data, reference_data):\n",
      "“p-value will be approximate in the presence of ties”\n",
      "Warning message in ks.test(generated_data, reference_data):\n",
      "“p-value will be approximate in the presence of ties”\n",
      "Warning message in ks.test(generated_data, reference_data):\n",
      "“p-value will be approximate in the presence of ties”\n",
      "Warning message in ks.test(generated_data, reference_data):\n",
      "“p-value will be approximate in the presence of ties”\n",
      "Warning message in ks.test(generated_data, reference_data):\n",
      "“p-value will be approximate in the presence of ties”\n",
      "Warning message in ks.test(generated_data, reference_data):\n",
      "“p-value will be approximate in the presence of ties”\n",
      "Warning message in ks.test(generated_data, reference_data):\n",
      "“p-value will be approximate in the presence of ties”\n",
      "Warning message in ks.test(generated_data, reference_data):\n",
      "“p-value will be approximate in the presence of ties”\n",
      "Warning message in ks.test(generated_data, reference_data):\n",
      "“p-value will be approximate in the presence of ties”\n",
      "Warning message in ks.test(generated_data, reference_data):\n",
      "“p-value will be approximate in the presence of ties”\n",
      "Warning message in ks.test(generated_data, reference_data):\n",
      "“p-value will be approximate in the presence of ties”\n",
      "Warning message in ks.test(generated_data, reference_data):\n",
      "“p-value will be approximate in the presence of ties”\n",
      "Warning message in ks.test(generated_data, reference_data):\n",
      "“p-value will be approximate in the presence of ties”\n",
      "Warning message in ks.test(generated_data, reference_data):\n",
      "“p-value will be approximate in the presence of ties”\n",
      "Warning message in ks.test(generated_data, reference_data):\n",
      "“p-value will be approximate in the presence of ties”\n",
      "Warning message in ks.test(generated_data, reference_data):\n",
      "“p-value will be approximate in the presence of ties”\n",
      "Warning message in ks.test(generated_data, reference_data):\n",
      "“p-value will be approximate in the presence of ties”\n",
      "Warning message in ks.test(generated_data, reference_data):\n",
      "“p-value will be approximate in the presence of ties”\n",
      "Warning message in ks.test(generated_data, reference_data):\n",
      "“p-value will be approximate in the presence of ties”\n",
      "Warning message in ks.test(generated_data, reference_data):\n",
      "“p-value will be approximate in the presence of ties”\n",
      "Warning message in ks.test(generated_data, reference_data):\n",
      "“p-value will be approximate in the presence of ties”\n",
      "Warning message in ks.test(generated_data, reference_data):\n",
      "“p-value will be approximate in the presence of ties”\n",
      "Warning message in ks.test(generated_data, reference_data):\n",
      "“p-value will be approximate in the presence of ties”\n",
      "Warning message in ks.test(generated_data, reference_data):\n",
      "“p-value will be approximate in the presence of ties”\n",
      "Warning message in ks.test(generated_data, reference_data):\n",
      "“p-value will be approximate in the presence of ties”\n",
      "Warning message in ks.test(generated_data, reference_data):\n",
      "“p-value will be approximate in the presence of ties”\n",
      "Warning message in ks.test(generated_data, reference_data):\n",
      "“p-value will be approximate in the presence of ties”\n",
      "Warning message in ks.test(generated_data, reference_data):\n",
      "“p-value will be approximate in the presence of ties”\n",
      "Warning message in ks.test(generated_data, reference_data):\n",
      "“p-value will be approximate in the presence of ties”\n",
      "Warning message in ks.test(generated_data, reference_data):\n",
      "“p-value will be approximate in the presence of ties”\n",
      "Warning message in ks.test(generated_data, reference_data):\n",
      "“p-value will be approximate in the presence of ties”\n",
      "Warning message in ks.test(generated_data, reference_data):\n",
      "“p-value will be approximate in the presence of ties”\n",
      "Warning message in ks.test(generated_data, reference_data):\n",
      "“p-value will be approximate in the presence of ties”\n",
      "Warning message in ks.test(generated_data, reference_data):\n",
      "“p-value will be approximate in the presence of ties”\n",
      "Warning message in ks.test(generated_data, reference_data):\n",
      "“p-value will be approximate in the presence of ties”\n",
      "Warning message in ks.test(generated_data, reference_data):\n",
      "“p-value will be approximate in the presence of ties”\n",
      "Warning message in ks.test(generated_data, reference_data):\n",
      "“p-value will be approximate in the presence of ties”\n",
      "Warning message in ks.test(generated_data, reference_data):\n",
      "“p-value will be approximate in the presence of ties”\n",
      "Warning message in ks.test(generated_data, reference_data):\n",
      "“p-value will be approximate in the presence of ties”\n",
      "Warning message in ks.test(generated_data, reference_data):\n",
      "“p-value will be approximate in the presence of ties”\n",
      "Warning message in ks.test(generated_data, reference_data):\n",
      "“p-value will be approximate in the presence of ties”\n",
      "Warning message in ks.test(generated_data, reference_data):\n",
      "“p-value will be approximate in the presence of ties”\n",
      "Warning message in ks.test(generated_data, reference_data):\n",
      "“p-value will be approximate in the presence of ties”\n",
      "Warning message in ks.test(generated_data, reference_data):\n",
      "“p-value will be approximate in the presence of ties”\n",
      "Warning message in ks.test(generated_data, reference_data):\n",
      "“p-value will be approximate in the presence of ties”\n",
      "Warning message in ks.test(generated_data, reference_data):\n",
      "“p-value will be approximate in the presence of ties”\n"
     ]
    },
    {
     "data": {
      "text/html": [
       "7.19153238082346e-06"
      ],
      "text/latex": [
       "7.19153238082346e-06"
      ],
      "text/markdown": [
       "7.19153238082346e-06"
      ],
      "text/plain": [
       "[1] 7.191532e-06"
      ]
     },
     "metadata": {},
     "output_type": "display_data"
    }
   ],
   "source": [
    "# Définir l'ensemble de données de référence\n",
    "reference_data <- scan(\"dataChallengeB7e-6.txt\")\n",
    "\n",
    "# Définir la fonction de coût\n",
    "cost_function <- function(mu, reference_data) {\n",
    "    commande <- sprintf(\"./atreyu_forward_simulator 10,1e7 0 %e 0.7 1 3840 | cut -d' ' -f1 > TauxMutation2.txt\", mu)\n",
    "    system(commande)\n",
    "    generated_data <- scan(\"TauxMutation2.txt\")\n",
    "    ks_statistic <- ks.test(generated_data, reference_data)$statistic\n",
    "    return(as.double(ks_statistic))\n",
    "}\n",
    "\n",
    "mu_init = median(reference_data)/1e7\n",
    "\n",
    "pas = 1\n",
    "\n",
    "for (i in 1:10) {\n",
    "    x <- seq(log10(mu_init) - pas, log10(mu_init) + pas, by = 2*pas/20)\n",
    "    y <- 10^x\n",
    "    \n",
    "    cost_function_values = c(1:length(y))\n",
    "\n",
    "    for (i in 1:length(y)) {\n",
    "        cost_function_values[i] = cost_function(y[i], reference_data)\n",
    "    }\n",
    "\n",
    "    mu_init = y[which.min(cost_function_values)]\n",
    "\n",
    "    pas = pas/2\n",
    "}\n",
    "\n",
    "mu_init\n"
   ]
  },
  {
   "cell_type": "markdown",
   "id": "7056bbc0",
   "metadata": {},
   "source": [
    "### Gradient Descendant"
   ]
  },
  {
   "cell_type": "code",
   "execution_count": 13,
   "id": "8dd96704",
   "metadata": {
    "vscode": {
     "languageId": "r"
    }
   },
   "outputs": [
    {
     "name": "stderr",
     "output_type": "stream",
     "text": [
      "Warning message in ks.test(generated_data, reference_data):\n",
      "“p-value will be approximate in the presence of ties”\n",
      "Warning message in ks.test(generated_data, reference_data):\n",
      "“p-value will be approximate in the presence of ties”\n",
      "Warning message in ks.test(generated_data, reference_data):\n",
      "“p-value will be approximate in the presence of ties”\n",
      "Warning message in ks.test(generated_data, reference_data):\n",
      "“p-value will be approximate in the presence of ties”\n",
      "Warning message in ks.test(generated_data, reference_data):\n",
      "“p-value will be approximate in the presence of ties”\n",
      "Warning message in ks.test(generated_data, reference_data):\n",
      "“p-value will be approximate in the presence of ties”\n",
      "Warning message in ks.test(generated_data, reference_data):\n",
      "“p-value will be approximate in the presence of ties”\n",
      "Warning message in ks.test(generated_data, reference_data):\n",
      "“p-value will be approximate in the presence of ties”\n",
      "Warning message in ks.test(generated_data, reference_data):\n",
      "“p-value will be approximate in the presence of ties”\n",
      "Warning message in ks.test(generated_data, reference_data):\n",
      "“p-value will be approximate in the presence of ties”\n",
      "Warning message in ks.test(generated_data, reference_data):\n",
      "“p-value will be approximate in the presence of ties”\n",
      "Warning message in ks.test(generated_data, reference_data):\n",
      "“p-value will be approximate in the presence of ties”\n",
      "Warning message in ks.test(generated_data, reference_data):\n",
      "“p-value will be approximate in the presence of ties”\n",
      "Warning message in ks.test(generated_data, reference_data):\n",
      "“p-value will be approximate in the presence of ties”\n",
      "Warning message in ks.test(generated_data, reference_data):\n",
      "“p-value will be approximate in the presence of ties”\n",
      "Warning message in ks.test(generated_data, reference_data):\n",
      "“p-value will be approximate in the presence of ties”\n",
      "Warning message in ks.test(generated_data, reference_data):\n",
      "“p-value will be approximate in the presence of ties”\n",
      "Warning message in ks.test(generated_data, reference_data):\n",
      "“p-value will be approximate in the presence of ties”\n",
      "Warning message in ks.test(generated_data, reference_data):\n",
      "“p-value will be approximate in the presence of ties”\n",
      "Warning message in ks.test(generated_data, reference_data):\n",
      "“p-value will be approximate in the presence of ties”\n",
      "Warning message in ks.test(generated_data, reference_data):\n",
      "“p-value will be approximate in the presence of ties”\n",
      "Warning message in ks.test(generated_data, reference_data):\n",
      "“p-value will be approximate in the presence of ties”\n",
      "Warning message in ks.test(generated_data, reference_data):\n",
      "“p-value will be approximate in the presence of ties”\n",
      "Warning message in ks.test(generated_data, reference_data):\n",
      "“p-value will be approximate in the presence of ties”\n",
      "Warning message in ks.test(generated_data, reference_data):\n",
      "“p-value will be approximate in the presence of ties”\n",
      "Warning message in ks.test(generated_data, reference_data):\n",
      "“p-value will be approximate in the presence of ties”\n",
      "Warning message in ks.test(generated_data, reference_data):\n",
      "“p-value will be approximate in the presence of ties”\n",
      "Warning message in ks.test(generated_data, reference_data):\n",
      "“p-value will be approximate in the presence of ties”\n",
      "Warning message in ks.test(generated_data, reference_data):\n",
      "“p-value will be approximate in the presence of ties”\n",
      "Warning message in ks.test(generated_data, reference_data):\n",
      "“p-value will be approximate in the presence of ties”\n",
      "Warning message in ks.test(generated_data, reference_data):\n",
      "“p-value will be approximate in the presence of ties”\n",
      "Warning message in ks.test(generated_data, reference_data):\n",
      "“p-value will be approximate in the presence of ties”\n"
     ]
    },
    {
     "name": "stdout",
     "output_type": "stream",
     "text": [
      "Iteration 10 Cost: 0.9713542 \n"
     ]
    },
    {
     "name": "stderr",
     "output_type": "stream",
     "text": [
      "Warning message in ks.test(generated_data, reference_data):\n",
      "“p-value will be approximate in the presence of ties”\n",
      "Warning message in ks.test(generated_data, reference_data):\n",
      "“p-value will be approximate in the presence of ties”\n",
      "Warning message in ks.test(generated_data, reference_data):\n",
      "“p-value will be approximate in the presence of ties”\n",
      "Warning message in ks.test(generated_data, reference_data):\n",
      "“p-value will be approximate in the presence of ties”\n",
      "Warning message in ks.test(generated_data, reference_data):\n",
      "“p-value will be approximate in the presence of ties”\n",
      "Warning message in ks.test(generated_data, reference_data):\n",
      "“p-value will be approximate in the presence of ties”\n",
      "Warning message in ks.test(generated_data, reference_data):\n",
      "“p-value will be approximate in the presence of ties”\n",
      "Warning message in ks.test(generated_data, reference_data):\n",
      "“p-value will be approximate in the presence of ties”\n",
      "Warning message in ks.test(generated_data, reference_data):\n",
      "“p-value will be approximate in the presence of ties”\n",
      "Warning message in ks.test(generated_data, reference_data):\n",
      "“p-value will be approximate in the presence of ties”\n",
      "Warning message in ks.test(generated_data, reference_data):\n",
      "“p-value will be approximate in the presence of ties”\n",
      "Warning message in ks.test(generated_data, reference_data):\n",
      "“p-value will be approximate in the presence of ties”\n",
      "Warning message in ks.test(generated_data, reference_data):\n",
      "“p-value will be approximate in the presence of ties”\n",
      "Warning message in ks.test(generated_data, reference_data):\n",
      "“p-value will be approximate in the presence of ties”\n",
      "Warning message in ks.test(generated_data, reference_data):\n",
      "“p-value will be approximate in the presence of ties”\n",
      "Warning message in ks.test(generated_data, reference_data):\n",
      "“p-value will be approximate in the presence of ties”\n",
      "Warning message in ks.test(generated_data, reference_data):\n",
      "“p-value will be approximate in the presence of ties”\n",
      "Warning message in ks.test(generated_data, reference_data):\n",
      "“p-value will be approximate in the presence of ties”\n",
      "Warning message in ks.test(generated_data, reference_data):\n",
      "“p-value will be approximate in the presence of ties”\n",
      "Warning message in ks.test(generated_data, reference_data):\n",
      "“p-value will be approximate in the presence of ties”\n",
      "Warning message in ks.test(generated_data, reference_data):\n",
      "“p-value will be approximate in the presence of ties”\n",
      "Warning message in ks.test(generated_data, reference_data):\n",
      "“p-value will be approximate in the presence of ties”\n",
      "Warning message in ks.test(generated_data, reference_data):\n",
      "“p-value will be approximate in the presence of ties”\n",
      "Warning message in ks.test(generated_data, reference_data):\n",
      "“p-value will be approximate in the presence of ties”\n",
      "Warning message in ks.test(generated_data, reference_data):\n",
      "“p-value will be approximate in the presence of ties”\n",
      "Warning message in ks.test(generated_data, reference_data):\n",
      "“p-value will be approximate in the presence of ties”\n",
      "Warning message in ks.test(generated_data, reference_data):\n",
      "“p-value will be approximate in the presence of ties”\n",
      "Warning message in ks.test(generated_data, reference_data):\n",
      "“p-value will be approximate in the presence of ties”\n",
      "Warning message in ks.test(generated_data, reference_data):\n",
      "“p-value will be approximate in the presence of ties”\n",
      "Warning message in ks.test(generated_data, reference_data):\n",
      "“p-value will be approximate in the presence of ties”\n",
      "Warning message in ks.test(generated_data, reference_data):\n",
      "“p-value will be approximate in the presence of ties”\n"
     ]
    },
    {
     "name": "stdout",
     "output_type": "stream",
     "text": [
      "Iteration 20 Cost: 0.6869792 \n"
     ]
    },
    {
     "name": "stderr",
     "output_type": "stream",
     "text": [
      "Warning message in ks.test(generated_data, reference_data):\n",
      "“p-value will be approximate in the presence of ties”\n",
      "Warning message in ks.test(generated_data, reference_data):\n",
      "“p-value will be approximate in the presence of ties”\n",
      "Warning message in ks.test(generated_data, reference_data):\n",
      "“p-value will be approximate in the presence of ties”\n",
      "Warning message in ks.test(generated_data, reference_data):\n",
      "“p-value will be approximate in the presence of ties”\n",
      "Warning message in ks.test(generated_data, reference_data):\n",
      "“p-value will be approximate in the presence of ties”\n",
      "Warning message in ks.test(generated_data, reference_data):\n",
      "“p-value will be approximate in the presence of ties”\n",
      "Warning message in ks.test(generated_data, reference_data):\n",
      "“p-value will be approximate in the presence of ties”\n",
      "Warning message in ks.test(generated_data, reference_data):\n",
      "“p-value will be approximate in the presence of ties”\n",
      "Warning message in ks.test(generated_data, reference_data):\n",
      "“p-value will be approximate in the presence of ties”\n",
      "Warning message in ks.test(generated_data, reference_data):\n",
      "“p-value will be approximate in the presence of ties”\n",
      "Warning message in ks.test(generated_data, reference_data):\n",
      "“p-value will be approximate in the presence of ties”\n",
      "Warning message in ks.test(generated_data, reference_data):\n",
      "“p-value will be approximate in the presence of ties”\n",
      "Warning message in ks.test(generated_data, reference_data):\n",
      "“p-value will be approximate in the presence of ties”\n",
      "Warning message in ks.test(generated_data, reference_data):\n",
      "“p-value will be approximate in the presence of ties”\n",
      "Warning message in ks.test(generated_data, reference_data):\n",
      "“p-value will be approximate in the presence of ties”\n",
      "Warning message in ks.test(generated_data, reference_data):\n",
      "“p-value will be approximate in the presence of ties”\n",
      "Warning message in ks.test(generated_data, reference_data):\n",
      "“p-value will be approximate in the presence of ties”\n",
      "Warning message in ks.test(generated_data, reference_data):\n",
      "“p-value will be approximate in the presence of ties”\n",
      "Warning message in ks.test(generated_data, reference_data):\n",
      "“p-value will be approximate in the presence of ties”\n",
      "Warning message in ks.test(generated_data, reference_data):\n",
      "“p-value will be approximate in the presence of ties”\n",
      "Warning message in ks.test(generated_data, reference_data):\n",
      "“p-value will be approximate in the presence of ties”\n",
      "Warning message in ks.test(generated_data, reference_data):\n",
      "“p-value will be approximate in the presence of ties”\n",
      "Warning message in ks.test(generated_data, reference_data):\n",
      "“p-value will be approximate in the presence of ties”\n",
      "Warning message in ks.test(generated_data, reference_data):\n",
      "“p-value will be approximate in the presence of ties”\n",
      "Warning message in ks.test(generated_data, reference_data):\n",
      "“p-value will be approximate in the presence of ties”\n",
      "Warning message in ks.test(generated_data, reference_data):\n",
      "“p-value will be approximate in the presence of ties”\n",
      "Warning message in ks.test(generated_data, reference_data):\n",
      "“p-value will be approximate in the presence of ties”\n",
      "Warning message in ks.test(generated_data, reference_data):\n",
      "“p-value will be approximate in the presence of ties”\n",
      "Warning message in ks.test(generated_data, reference_data):\n",
      "“p-value will be approximate in the presence of ties”\n",
      "Warning message in ks.test(generated_data, reference_data):\n",
      "“p-value will be approximate in the presence of ties”\n",
      "Warning message in ks.test(generated_data, reference_data):\n",
      "“p-value will be approximate in the presence of ties”\n"
     ]
    },
    {
     "name": "stdout",
     "output_type": "stream",
     "text": [
      "Iteration 30 Cost: 0.8971354 \n"
     ]
    },
    {
     "name": "stderr",
     "output_type": "stream",
     "text": [
      "Warning message in ks.test(generated_data, reference_data):\n",
      "“p-value will be approximate in the presence of ties”\n"
     ]
    },
    {
     "data": {
      "text/html": [
       "1.68604482323232e-05"
      ],
      "text/latex": [
       "1.68604482323232e-05"
      ],
      "text/markdown": [
       "1.68604482323232e-05"
      ],
      "text/plain": [
       "[1] 1.686045e-05"
      ]
     },
     "metadata": {},
     "output_type": "display_data"
    }
   ],
   "source": [
    "reference_data <- scan(\"dataChallengeB7e-6.txt\")\n",
    "\n",
    "cost_function_derivee <- function(mu, reference_data, h) {\n",
    "    return((cost_function(mu + h, reference_data) - cost_function(mu - h, reference_data))/(2*h))\n",
    "}\n",
    "\n",
    "# Initialiser la valeur de mu\n",
    "mu <- median(reference_data)/1e7\n",
    "\n",
    "ordre_gradient <- log10(cost_function_derivee(mu, reference_data, mu/10))\n",
    "\n",
    "ordre_mu <- log10(mu)\n",
    "\n",
    "# Définir les paramètres d'apprentissage\n",
    "learning_rate <- 10**(-abs(round(ordre_gradient, 0)) - abs(round(ordre_mu,0)) - 1)\n",
    "\n",
    "\n",
    "pas <- median(reference_data)/1e8\n",
    "\n",
    "for (i in 1:30) {\n",
    "    # Calculer le gradient de la fonction de coût par rapport à mu\n",
    "    gradient <- cost_function_derivee(mu, reference_data, pas)\n",
    "\n",
    "    # Mettre à jour la valeur de mu en fonction du gradient et du taux d'apprentissage\n",
    "    if ((mu - learning_rate * gradient) > 0) {\n",
    "        mu <- mu - learning_rate * gradient\n",
    "    }\n",
    "    else {\n",
    "        mu <- 1e-7\n",
    "    }\n",
    "    \n",
    "    # Afficher la valeur de la fonction de coût toutes les 100 itérations\n",
    "    if (i %% 10 == 0) {\n",
    "        cost <- cost_function(mu, reference_data)\n",
    "        cat(\"Iteration\", i, \"Cost:\", cost, \"\\n\")\n",
    "    }\n",
    "    if (cost_function(mu, reference_data) < 0.08) {\n",
    "        break\n",
    "    }\n",
    "}\n",
    "\n",
    "mu"
   ]
  },
  {
   "cell_type": "code",
   "execution_count": 674,
   "id": "76240619",
   "metadata": {
    "vscode": {
     "languageId": "r"
    }
   },
   "outputs": [],
   "source": [
    "inference_dichotomique_parametre <- function(N0, N1, d0, fmutant, p, sample_file) {\n",
    "\n",
    "    echantillon <- scan(sample_file)\n",
    "\n",
    "    mu_init <- rnorm(1, mean = median(echantillon)/N1, sd = (median(echantillon)/N1/10))\n",
    "    distance_to_curve <- 1\n",
    "    mouvement_gauche <- TRUE\n",
    "    mouvement_droite <- TRUE\n",
    "    pas <- 1.5\n",
    "    counter <- 0\n",
    "    cmax <- 20\n",
    "    \n",
    "    precision = 0.02\n",
    "        \n",
    "    while (distance_to_curve > 0.05) {\n",
    "        mu_gauche <- max(10^(log10(mu_init) - pas), 1/N1)\n",
    "        mu_droite <- 10^(log10(mu_init) + pas)\n",
    "        distance_to_curve_gauche <- 0\n",
    "        \n",
    "        commande_gauche <- sprintf(\"./atreyu_forward_simulator %e,%e %e %e %e %e 384 | cut -d' ' -f1 > TauxMutation2.txt\", N0, N1, d0, mu_gauche, fmutant, p)\n",
    "        \n",
    "        system(commande_gauche)\n",
    "        TauxMutation <- scan(\"TauxMutation2.txt\")\n",
    "        test_ks <- suppressWarnings(ks.test(TauxMutation, echantillon))\n",
    "        distance_to_curve_gauche <- as.double(test_ks$statistic)\n",
    "        distance_to_curve_droite <- 0\n",
    "        \n",
    "        \n",
    "        commande_droite <- sprintf(\"./atreyu_forward_simulator %e,%e %e %e %e %e 384 | cut -d' ' -f1 > TauxMutation2.txt\", N0, N1, d0, mu_droite, fmutant, p)        \n",
    "        \n",
    "        system(commande_droite)\n",
    "        TauxMutation <- scan(\"TauxMutation2.txt\")        \n",
    "        \n",
    "        test_ks <- suppressWarnings(ks.test(TauxMutation, echantillon))\n",
    "        distance_to_curve_droite <- as.double(test_ks$statistic)\n",
    "\n",
    "        if ((distance_to_curve_droite < distance_to_curve_gauche) && (distance_to_curve_droite < distance_to_curve)) {\n",
    "            mouvement_gauche <- FALSE\n",
    "            if (!mouvement_droite) {\n",
    "                if (pas > precision) {\n",
    "                    pas <- pas/2\n",
    "                }\n",
    "                mouvement_droite <- TRUE\n",
    "            }\n",
    "            counter <- 0\n",
    "            distance_to_curve <- distance_to_curve_droite\n",
    "            mu_init <- mu_droite\n",
    "        }\n",
    "        else if ((distance_to_curve_gauche < distance_to_curve_droite) && (distance_to_curve_gauche < distance_to_curve)) {\n",
    "            mouvement_droite <- FALSE\n",
    "            if (!mouvement_gauche) {\n",
    "                if (pas > precision) {\n",
    "                    pas <- pas/2\n",
    "                }\n",
    "                mouvement_gauche <- TRUE\n",
    "            }\n",
    "            counter <- 0\n",
    "            distance_to_curve <- distance_to_curve_gauche\n",
    "            mu_init <- mu_gauche\n",
    "        }\n",
    "        else {\n",
    "            mouvement_droite <- TRUE\n",
    "            mouvement_gauche <- TRUE\n",
    "            counter <- counter + 1\n",
    "            if (pas > precision) {\n",
    "                    pas <- pas/2\n",
    "            }\n",
    "        }\n",
    "                \n",
    "        if (counter > cmax) {\n",
    "            break\n",
    "        }\n",
    "            \n",
    "    }\n",
    "    return (mu_init)\n",
    "}\n",
    "\n",
    "# inference_dichotomique_parametre(10, 1e7, 0, 0.7, 1,\"dataChallengeB3e-6.txt\")\n",
    "\n",
    "if (False) {\n",
    "    vector = c(1:500)\n",
    "\n",
    "    for (i in 1:500) {\n",
    "        vector[i] = inference_dichotomique_parametre(10, 1e7, 0, 0.7, 1,\"dataChallengeB3e-6.txt\")\n",
    "    }\n",
    "\n",
    "    writeLines(as.character(vector), \"3e-6_inference_dichotomique.txt\")\n",
    "   \n",
    "}"
   ]
  },
  {
   "cell_type": "code",
   "execution_count": 721,
   "id": "ec54f8aa",
   "metadata": {
    "vscode": {
     "languageId": "r"
    }
   },
   "outputs": [],
   "source": [
    "cost_function <- function(mu, reference_data, N0, N1, d0, fmutant, p) {\n",
    "    commande <- sprintf(\"./atreyu_forward_simulator %e,%e %e %e %e %e 384 | cut -d' ' -f1 > TauxMutation2.txt\", N0, N1, d0, mu, fmutant, p)\n",
    "    system(commande)\n",
    "    generated_data <- scan(\"TauxMutation2.txt\")\n",
    "    ks_statistic <- suppressWarnings(ks.test(generated_data, reference_data)$statistic)\n",
    "    return(as.double(ks_statistic))\n",
    "}\n",
    "\n",
    "\n",
    "inference_retrec_interval <- function(N0, N1, d0, fmutant, p, sample_file, cost_function) {\n",
    "    reference_data = scan(sample_file)\n",
    "            \n",
    "    mu_init <- rnorm(1, mean = median(reference_data)/N1, sd = (median(reference_data)/N1/10))\n",
    "\n",
    "    pas = 1\n",
    "    \n",
    "    cost <- 1\n",
    "    \n",
    "    tour <- 0 \n",
    "    \n",
    "    while (cost > 0.05) {\n",
    "        x <- seq(log10(mu_init) - pas, log10(mu_init) + pas, by = 2*pas/10)\n",
    "        y <- 10^x\n",
    "\n",
    "        cost_function_values = c(1:length(y))\n",
    "\n",
    "        for (i in 1:length(y)) {\n",
    "            cost_function_values[i] = cost_function(y[i], reference_data, N0, N1, d0, fmutant, p)\n",
    "        }\n",
    "\n",
    "        mu_init = y[which.min(cost_function_values)]\n",
    "        \n",
    "        cost = min(cost_function_values)\n",
    "        \n",
    "        pas = pas/2\n",
    "        \n",
    "        tour <- tour + 1\n",
    "        if (tour >= 10) {\n",
    "            break\n",
    "        }\n",
    "    }\n",
    "    \n",
    "    return(mu_init)\n",
    "}\n",
    "\n",
    "result <- inference_retrec_interval(10, 1e7, 0, 0.7, 1, \"dataChallengeB5e-7.txt\", cost_function)\n",
    "\n",
    "vector = c(1:500)\n",
    "\n",
    "for (i in 1:500) {\n",
    "    vector[i] = inference_retrec_interval(10, 1e7, 0, 0.7, 1,\"dataChallengeB3e-6.txt\", cost_function)\n",
    "}\n",
    "\n",
    "writeLines(as.character(vector), \"3e-6_inference_retrec_intervalle.txt\")"
   ]
  },
  {
   "cell_type": "code",
   "execution_count": 196,
   "id": "193c179e",
   "metadata": {
    "vscode": {
     "languageId": "r"
    }
   },
   "outputs": [
    {
     "name": "stdout",
     "output_type": "stream",
     "text": [
      "[1] 1.506133e-07\n"
     ]
    }
   ],
   "source": [
    "cost_function_derivee <- function(mu, reference_data, h, cost_function, N0, N1, d0, fmutant, p) {\n",
    "    return((cost_function(mu + h, reference_data, N0, N1, d0, fmutant, p) - cost_function(mu - h, reference_data, N0, N1, d0, fmutant, p))/(2*h))\n",
    "}\n",
    "\n",
    "\n",
    "inference_gradient_decent <- function(N0, N1, d0, fmutant, p, sample_file, cost_function, cost_function_derivee) {\n",
    "    reference_data <- scan(sample_file)\n",
    "    # Initialiser la valeur de mu\n",
    "    mu <- median(reference_data)/N1\n",
    "    \n",
    "    ordre_gradient <- log10(abs(cost_function_derivee(mu, reference_data, mu/10, cost_function, N0, N1, d0, fmutant, p)))\n",
    "\n",
    "    ordre_mu <- log10(mu)\n",
    "    \n",
    "    # Définir les paramètres d'apprentissage\n",
    "    learning_rate <- 10**(-abs(round(ordre_gradient, 0)) - abs(round(ordre_mu,0)) - 1.5)\n",
    "    \n",
    "    pas <- (median(reference_data)/N1)/10\n",
    "    \n",
    "    cost = 1\n",
    "    \n",
    "    runner_up = c(1:2)\n",
    "    runner_up[1] = mu\n",
    "    runner_up[2] = cost_function(mu, reference_data, N0, N1, d0, fmutant, p)\n",
    "    \n",
    "    counter = 0\n",
    "    \n",
    "    while (cost > 0.05) {\n",
    "        # Calculer le gradient de la fonction de coût par rapport à mu\n",
    "        gradient <- cost_function_derivee(mu, reference_data, pas, cost_function, N0, N1, d0, fmutant, p)\n",
    "                \n",
    "        # Mettre à jour la valeur de mu en fonction du gradient et du taux d'apprentissage\n",
    "        if ((mu - learning_rate * gradient) > 0) {\n",
    "            mu <- mu - learning_rate * gradient\n",
    "        }\n",
    "        pas = mu/10\n",
    "\n",
    "        cost <- cost_function(mu, reference_data, N0, N1, d0, fmutant, p)\n",
    "        if (cost < runner_up[2]) {\n",
    "            runner_up[1] = mu\n",
    "            runner_up[2] = cost\n",
    "        }\n",
    "        counter <- counter + 1\n",
    "        \n",
    "        if (counter == 30) {\n",
    "            break\n",
    "        }\n",
    "    }\n",
    "    \n",
    "    return(runner_up[1])\n",
    "}\n",
    "\n",
    "print(inference_gradient_decent(10, 1e7, 0, 0.7, 1, \"datachallengeA\", cost_function, cost_function_derivee))\n"
   ]
  },
  {
   "cell_type": "code",
   "execution_count": 656,
   "id": "70c107b2",
   "metadata": {},
   "outputs": [
    {
     "data": {
      "text/html": [
       "3.01984900000216e-06"
      ],
      "text/latex": [
       "3.01984900000216e-06"
      ],
      "text/markdown": [
       "3.01984900000216e-06"
      ],
      "text/plain": [
       "[1] 3.019849e-06"
      ]
     },
     "metadata": {},
     "output_type": "display_data"
    }
   ],
   "source": [
    "cost_function_derivee_log <- function(mu, reference_data, h, cost_function, N0, N1, d0, fmutant, p) {\n",
    "    return((cost_function(10^(log10(mu) + h), reference_data, N0, N1, d0, fmutant, p) - cost_function(10^(log10(mu) - h), reference_data, N0, N1, d0, fmutant, p))/(2*h))\n",
    "}\n",
    "\n",
    "\n",
    "inference_gradient_decent_log <- function(N0, N1, d0, fmutant, p, sample_file, cost_function, cost_function_derivee_log) {\n",
    "    reference_data <- scan(sample_file)\n",
    "    # Initialiser la valeur de mu\n",
    "    mu <- median(reference_data)/N1\n",
    "    \n",
    "    # ordre_gradient <- log10(abs(cost_function_derivee_log(mu, reference_data, 0.1, cost_function, N0, N1, d0, fmutant, p)))\n",
    "    \n",
    "    # ordre_mu <- log10(mu)\n",
    "    \n",
    "    # Définir les paramètres d'apprentissage\n",
    "    #learning_rate <- 10**(-abs(round(ordre_gradient, 0)) - abs(round(ordre_mu,0)) - 1.5)\n",
    "    learning_rate <- 1/N1\n",
    "    \n",
    "    pas <- 0.2\n",
    "    \n",
    "    cost = 1\n",
    "    \n",
    "    runner_up = c(1:2)\n",
    "    runner_up[1] = mu\n",
    "    runner_up[2] = cost_function(mu, reference_data, N0, N1, d0, fmutant, p)\n",
    "    \n",
    "    counter = 0\n",
    "    \n",
    "    while (cost > 0.05) {\n",
    "        # Calculer le gradient de la fonction de coût par rapport à mu\n",
    "        gradient <- cost_function_derivee_log(mu, reference_data, pas, cost_function, N0, N1, d0, fmutant, p)\n",
    "                \n",
    "        # Mettre à jour la valeur de mu en fonction du gradient et du taux d'apprentissage\n",
    "        if ((mu - learning_rate * gradient) > 0) {\n",
    "            mu <- 10^(log10(mu) - 0.1*gradient)\n",
    "        }\n",
    "        \n",
    "        # pas = mu/10\n",
    "\n",
    "        cost <- cost_function(mu, reference_data, N0, N1, d0, fmutant, p)\n",
    "        if (cost < runner_up[2]) {\n",
    "            runner_up[1] = mu\n",
    "            runner_up[2] = cost\n",
    "        }\n",
    "        counter <- counter + 1\n",
    "        \n",
    "        if (counter == 30) {\n",
    "            break\n",
    "        }\n",
    "    }\n",
    "    \n",
    "    return(runner_up[1])\n",
    "}\n",
    "\n",
    "inference_gradient_decent_log(10, 1e7, 0, 0.7, 1, \"dataChallengeB3e-6.txt\", cost_function, cost_function_derivee_log)\n",
    "\n",
    "\n",
    "reference_data <- scan(\"datachallengeA\")"
   ]
  },
  {
   "cell_type": "code",
   "execution_count": 187,
   "id": "0f17e5cb",
   "metadata": {
    "vscode": {
     "languageId": "r"
    }
   },
   "outputs": [
    {
     "ename": "ERROR",
     "evalue": "Error in ks.test(generated_data, reference_data): not enough 'x' data\n",
     "output_type": "error",
     "traceback": [
      "Error in ks.test(generated_data, reference_data): not enough 'x' data\nTraceback:\n",
      "1. system.time(for (i in 1:number_of_tests) {\n .     parameters = jeu_donnees_parameters_matrix[i, ]\n .     result = inference_retrec_interval(parameters[1], parameters[2], \n .         parameters[3], parameters[5], 1, jeu_donnees_files[i], \n .         cost_function)\n .     erreur_quadratique_retrec_interval = erreur_quadratique_retrec_interval + \n .         (result - parameters[4]) * (result - parameters[4])/parameters[4]/parameters[4]\n . })",
      "2. inference_retrec_interval(parameters[1], parameters[2], parameters[3], \n .     parameters[5], 1, jeu_donnees_files[i], cost_function)",
      "3. cost_function(y[i], reference_data, N0, N1, d0, fmutant, p)   # at line 24 of file <text>",
      "4. suppressWarnings(ks.test(generated_data, reference_data)$statistic)   # at line 5 of file <text>",
      "5. withCallingHandlers(expr, warning = function(w) if (inherits(w, \n .     classes)) tryInvokeRestart(\"muffleWarning\"))",
      "6. ks.test(generated_data, reference_data)   # at line 5 of file <text>",
      "7. stop(\"not enough 'x' data\")"
     ]
    },
    {
     "name": "stderr",
     "output_type": "stream",
     "text": [
      "Timing stopped at: 3.263 0.567 3.235\n",
      "\n"
     ]
    }
   ],
   "source": [
    "jeu_donnees_parameters = scan(\"Jeux_Donnees_Parameters.txt\")\n",
    "\n",
    "jeu_donnees_parameters_matrix = matrix(jeu_donnees_parameters, ncol = 5, byrow = TRUE)\n",
    "\n",
    "files = file(\"Jeux_Donnees_Files.txt\", \"r\") \n",
    "\n",
    "jeu_donnees_files <- scan(files, what = \"character\", sep = \"\\n\")\n",
    "\n",
    "erreur_quadratique_retrec_interval = 0\n",
    "\n",
    "number_of_tests = 100\n",
    "\n",
    "duration_retrec_interval <- system.time(\n",
    "    for (i in 1:number_of_tests) {\n",
    "        parameters = jeu_donnees_parameters_matrix[i,]\n",
    "\n",
    "        result = inference_retrec_interval(parameters[1], parameters[2], parameters[3], parameters[5], 1, jeu_donnees_files[i], cost_function)\n",
    "\n",
    "        erreur_quadratique_retrec_interval = erreur_quadratique_retrec_interval + (result - parameters[4])*(result - parameters[4])/parameters[4]/parameters[4]\n",
    "\n",
    "    }\n",
    ")\n",
    "\n",
    "erreur_quadratique_retrec_interval = sqrt(erreur_quadratique_retrec_interval)/number_of_tests\n",
    "\n",
    "erreur_quadratique_dichotomie = 0\n",
    "\n",
    "duration_dichotomie <- system.time(\n",
    "    for (i in 1:number_of_tests) {\n",
    "        parameters = jeu_donnees_parameters_matrix[i,]\n",
    "\n",
    "        result = inference_dichotomique_parametre(parameters[1], parameters[2], parameters[3], parameters[5], 1, jeu_donnees_files[i])\n",
    "\n",
    "        erreur_quadratique_dichotomie = erreur_quadratique_dichotomie + (result - parameters[4])*(result - parameters[4])/parameters[4]/parameters[4]\n",
    "\n",
    "    }\n",
    ")\n",
    "\n",
    "erreur_quadratique_dichotomie = sqrt(erreur_quadratique_dichotomie)/number_of_tests\n",
    "\n"
   ]
  },
  {
   "cell_type": "code",
   "execution_count": null,
   "id": "42f1cff6",
   "metadata": {
    "vscode": {
     "languageId": "r"
    }
   },
   "outputs": [],
   "source": [
    "erreur_quadratique_grad_decent = 0\n",
    "\n",
    "\n",
    "duration_grad_decent <- system.time(\n",
    "    for (i in 1:number_of_tests) {\n",
    "        parameters = jeu_donnees_parameters_matrix[i,]\n",
    "\n",
    "        result = inference_gradient_decent(parameters[1], parameters[2], parameters[3], parameters[5], 1, jeu_donnees_files[i], cost_function, cost_function_derivee)\n",
    "\n",
    "        erreur_quadratique_grad_decent = erreur_quadratique_grad_decent + (result - parameters[4])*(result - parameters[4])/parameters[4]/parameters[4]\n",
    "\n",
    "    }\n",
    ")\n",
    "\n",
    "erreur_quadratique_grad_decent = sqrt(erreur_quadratique_grad_decent)/number_of_tests"
   ]
  },
  {
   "cell_type": "code",
   "execution_count": 18,
   "id": "b39fd809",
   "metadata": {
    "vscode": {
     "languageId": "r"
    }
   },
   "outputs": [
    {
     "ename": "ERROR",
     "evalue": "Error in eval(expr, envir, enclos): object 'erreur_quadratique_dichotomie' not found\n",
     "output_type": "error",
     "traceback": [
      "Error in eval(expr, envir, enclos): object 'erreur_quadratique_dichotomie' not found\nTraceback:\n"
     ]
    }
   ],
   "source": [
    "library(ggplot2)\n",
    "\n",
    "eqm = c(erreur_quadratique_dichotomie, erreur_quadratique_retrec_interval, erreur_quadratique_grad_decent)\n",
    "time = c(as.double(duration_dichotomie[1]) + as.double(duration_dichotomie[4]), as.double(duration_retrec_interval[1]) + as.double(duration_retrec_interval[4]), as.double(duration_grad_decent[1]) + as.double(duration_grad_decent[4]))\n",
    "method <- c(\"Dichotomie\", \"Retrec Interval\", \"Gradient Decent\")\n",
    "\n",
    "# Plot of accuracy\n",
    "p1 <- ggplot(data.frame(method, eqm), aes(x=method, y=eqm)) +\n",
    "  geom_bar(stat=\"identity\", fill=\"blue\") +\n",
    "  labs(title=\"Error of Methods\", y=\"Error\")\n",
    "\n",
    "# Plot of execution time\n",
    "p2 <- ggplot(data.frame(method, time), aes(x=method, y=time)) +\n",
    "  geom_bar(stat=\"identity\", fill=\"red\") +\n",
    "  labs(title=\"Execution Time of Methods\", y=\"Execution Time (seconds)\")\n",
    "\n",
    "p1\n",
    "p2\n"
   ]
  },
  {
   "cell_type": "code",
   "execution_count": 21,
   "id": "740a90ae",
   "metadata": {
    "vscode": {
     "languageId": "r"
    }
   },
   "outputs": [
    {
     "name": "stderr",
     "output_type": "stream",
     "text": [
      "Loading required package: sm\n",
      "\n",
      "Package 'sm', version 2.2-5.7: type help(sm) for summary information\n",
      "\n",
      "\n",
      "Attaching package: ‘sm’\n",
      "\n",
      "\n",
      "The following object is masked from ‘package:MASS’:\n",
      "\n",
      "    muscle\n",
      "\n",
      "\n",
      "Loading required package: zoo\n",
      "\n",
      "\n",
      "Attaching package: ‘zoo’\n",
      "\n",
      "\n",
      "The following objects are masked from ‘package:base’:\n",
      "\n",
      "    as.Date, as.Date.numeric\n",
      "\n",
      "\n",
      "Timing stopped at: 0.07 0.016 0.072\n",
      "\n"
     ]
    }
   ],
   "source": [
    "library(vioplot)\n",
    "\n",
    "number_of_tests = 50\n",
    "\n",
    "squared_error_dichotomy = c(1:number_of_tests)\n",
    "squared_error_grad_decent = c(1:number_of_tests)\n",
    "squared_error_retrec_interval = c(1:number_of_tests)\n",
    "execution_time_dichotomy = c(1:number_of_tests)\n",
    "execution_time_grad_decent = c(1:number_of_tests)\n",
    "execution_time_retrec_interval = c(1:number_of_tests)\n",
    "\n",
    "\n",
    "for (i in 1:number_of_tests) {\n",
    "    parameters = jeu_donnees_parameters_matrix[i,]\n",
    "    \n",
    "    duration_dichotomie <- system.time({\n",
    "        result = inference_dichotomique_parametre(parameters[1], parameters[2], parameters[3], parameters[5], 1, jeu_donnees_files[i])\n",
    "    })\n",
    "    squared_error_dichotomy[i] = (result - parameters[4])*(result - parameters[4])/parameters[4]/parameters[4]\n",
    "    execution_time_dichotomy[i] = as.double(duration_dichotomie[1]) + as.double(duration_dichotomie[4])\n",
    "    \n",
    "    duration_grad_decent <- system.time({\n",
    "        result = inference_gradient_decent(parameters[1], parameters[2], parameters[3], parameters[5], 1, jeu_donnees_files[i], cost_function, cost_function_derivee)\n",
    "    })\n",
    "    squared_error_grad_decent[i] = (result - parameters[4])*(result - parameters[4])/parameters[4]/parameters[4]\n",
    "    execution_time_grad_decent[i] = as.double(duration_grad_decent[1]) + as.double(duration_grad_decent[4])\n",
    "    \n",
    "    duration_retrec_interval <- system.time({\n",
    "        result <- inference_retrec_interval(parameters[1], parameters[2], parameters[3], parameters[5], 1, jeu_donnees_files[i], cost_function)\n",
    "    })\n",
    "    squared_error_retrec_interval[i] = (result - parameters[4])*(result - parameters[4])/parameters[4]/parameters[4]\n",
    "    execution_time_retrec_interval[i] = as.double(duration_retrec_interval[1]) + as.double(duration_retrec_interval[4])\n",
    "}\n",
    "\n",
    "violin_plot <- function(names , vecteurs, separateur){\n",
    "    data <- data.frame(\n",
    "        group = rep(names, each = separateur),\n",
    "        value = vecteurs\n",
    "    )\n",
    "    vioplot(data$value ~ data$group, col = \"blue\")\n",
    "}\n"
   ]
  },
  {
   "cell_type": "code",
   "execution_count": null,
   "id": "88526340",
   "metadata": {
    "vscode": {
     "languageId": "r"
    }
   },
   "outputs": [],
   "source": [
    "violin_plot(c(\"Dichotomie\", \"Grad decent\", \"Retrec Intervalle\"), c(squared_error_dichotomy, squared_error_grad_decent, squared_error_retrec_interval), number_of_tests)\n",
    "\n",
    "violin_plot(c(\"Dichotomie\", \"Grad decent\", \"Retrec Intervalle\"), c(execution_time_dichotomy, execution_time_grad_decent, execution_time_retrec_interval), number_of_tests)"
   ]
  },
  {
   "cell_type": "markdown",
   "id": "966100b2",
   "metadata": {},
   "source": [
    "# ABC : Approximate Bayesian Computation"
   ]
  },
  {
   "cell_type": "markdown",
   "id": "d44e3b27",
   "metadata": {},
   "source": [
    "Supposons que nous voulions calculer la distribution de probabilité postérieure d'un paramètre univarié ou multivarié, θ. Une valeur de paramètre θi , est échantillonnée à partir de sa distribution antérieure pour simuler un ensemble de données yi ,\n",
    "pour i = 1, . . . n, où n est le nombre de simulations. Un ensemble de statistiques sommaires S(yi) est calculé\n",
    "à partir des données simulées et comparées aux statistiques sommaires obtenues à partir des données réelles S(y0) Une valeur de paramètre θi , est échantillonnée à partir de sa distribution antérieure pour simuler un ensemble de données yi ,\n",
    "pour i = 1, . . . n, où n est le nombre de simulations. Un ensemble de statistiques sommaires S(yi) est calculé\n",
    "à partir des données simulées et comparées aux statistiques sommaires obtenues à partir des données réelles S(y0) à l'aide d'une mesure de distance d.\n",
    "à l'aide d'une mesure de distance d.\n",
    "Si d(S(yi), S(y0)) (c'est-à-dire la distance entre S(yi) et S(y0)) est inférieure à un seuil donné, le paramètre\n",
    "paramètre θi est acceptée. Les θi acceptés\n",
    "acceptés forment un échantillon d'une approximation de la distribution postérieure."
   ]
  },
  {
   "cell_type": "markdown",
   "id": "310e09dc",
   "metadata": {},
   "source": [
    "### Inférence du taux de mutation $\\mu$"
   ]
  },
  {
   "cell_type": "markdown",
   "id": "45928789",
   "metadata": {},
   "source": [
    "On commence par l'importation du library abc, puis on charge les données observées dans reference_data."
   ]
  },
  {
   "cell_type": "code",
   "execution_count": null,
   "id": "e8989da8",
   "metadata": {
    "vscode": {
     "languageId": "r"
    }
   },
   "outputs": [],
   "source": [
    "library(abc)\n",
    "reference_data <- scan(\"dataChallengeB3e-6.txt\")\n"
   ]
  },
  {
   "cell_type": "markdown",
   "id": "e8f28f4a",
   "metadata": {},
   "source": [
    "On prépare les différentes variables nécessaires à notre simulateur."
   ]
  },
  {
   "cell_type": "code",
   "execution_count": null,
   "id": "3889f004",
   "metadata": {
    "vscode": {
     "languageId": "r"
    }
   },
   "outputs": [],
   "source": [
    "mu_median <- median(reference_data)/1e7\n",
    "N0 = 10\n",
    "N1 = 1e7\n",
    "d0 = 0\n",
    "fmutant = 0.7\n",
    "\n",
    "# D'autres paramètres pour la préparation des données à donner à \n",
    "# la fonction abc() :\n",
    "\n",
    "filter = 10*median(reference_data)\n",
    "tol = 0.1\n",
    "n_sim = 1000\n",
    "n_param = 1\n"
   ]
  },
  {
   "cell_type": "markdown",
   "id": "b254f72c",
   "metadata": {},
   "source": [
    "On choisit un loi non informatif (loi uniforme) pour notre prior :"
   ]
  },
  {
   "cell_type": "code",
   "execution_count": null,
   "id": "0332b72b",
   "metadata": {
    "vscode": {
     "languageId": "r"
    }
   },
   "outputs": [],
   "source": [
    "prior <- function(n) runif(n, 10^(log10(mu_median) - 1), 10^(log10(mu_median) + 1))"
   ]
  },
  {
   "cell_type": "markdown",
   "id": "6b3e3bc3",
   "metadata": {},
   "source": [
    "On définit la fonction modele, on choisit le mean comme un statistique sommaire:"
   ]
  },
  {
   "cell_type": "code",
   "execution_count": null,
   "id": "2ebdfaba",
   "metadata": {
    "vscode": {
     "languageId": "r"
    }
   },
   "outputs": [],
   "source": [
    "modele <- function(mu) {\n",
    "    commande <- sprintf(\"./atreyu_forward_simulator %e,%e %e %e %e 1 384 > TauxMutation.txt ; cut -d' ' -f1 TauxMutation.txt > TauxMutation2.txt\", N0, N1, d0, mu, fmutant)\n",
    "    system(commande)\n",
    "    generated_data <- scan(\"TauxMutation2.txt\")\n",
    "    return (mean(generated_data[generated_data<filter]))\n",
    "}"
   ]
  },
  {
   "cell_type": "markdown",
   "id": "7e54174c",
   "metadata": {},
   "source": [
    "On simule n_sim valeurs de $\\mu$ à l'aide de notre prior, et on calcule après les statistiques sommaires associées :"
   ]
  },
  {
   "cell_type": "code",
   "execution_count": null,
   "id": "ea70c867",
   "metadata": {
    "vscode": {
     "languageId": "r"
    }
   },
   "outputs": [],
   "source": [
    "param <- matrix(prior(n_sim * n_param), ncol = n_param)\n",
    "sumstat <- matrix(apply(param, 1, modele), ncol = 1)"
   ]
  },
  {
   "cell_type": "markdown",
   "id": "e4f4d23d",
   "metadata": {},
   "source": [
    "#### Cross Validation :"
   ]
  },
  {
   "cell_type": "markdown",
   "id": "df32647c",
   "metadata": {},
   "source": [
    "Avant de passer à l'étape de l'inférence, nous évaluons d'abord si l'ABC est capable d'estimer le paramètre mu. Nous utilisons la fonction cv4abc pour déterminer la précision de l'ABC et la sensibilité des estimations au taux de tolérance. Le code suivant évalue la précision des estimations de mu sous trois taux de tolérance en utilisant la méthode de rejet et de régression linéaire."
   ]
  },
  {
   "cell_type": "code",
   "execution_count": null,
   "id": "1af6b22f",
   "metadata": {
    "vscode": {
     "languageId": "r"
    }
   },
   "outputs": [],
   "source": [
    "cv.res.rej <- cv4abc(param,sumstat,nval=10,tols=c(.005,.01,.05),statistic =\"mean\" ,method = \"rejection\")\n",
    "cv.res.reg <- cv4abc(param,sumstat,nval=10,tols=c(.005,.01,.05),statistic = \"mean\" ,method = \"loclinear\")\n",
    "summary(cv.res.rej)\n",
    "summary(cv.res.reg)\n",
    "par(mfrow=c(1,2), mar=c(5,3,4,.5), cex=.8)\n",
    "plot(cv.res.rej, caption=\"Rejection\")\n",
    "plot(cv.res.reg, caption=\"Local linear regression\")"
   ]
  },
  {
   "cell_type": "markdown",
   "id": "d1f5f0ee",
   "metadata": {},
   "source": [
    "les graphiques montrent les means de la distribution a posteriori de $\\mu$ pour chaque échantillon de cross validation.\n",
    "Les points du graphique de cross validation sont dispersés autour de la ligne d'identité, ce qui indique que $\\mu$ peut être bien estimé à l'aide des notre statistiques sommaires (le mean dans notre cas). En outre, les estimations n'étaient pas seulement précises pour $\\mu$ , mais aussi insensibles au taux de tolérance. En conséquence, l'erreur de prédiction est relativement faible et indépendante du taux de tolérance."
   ]
  },
  {
   "cell_type": "markdown",
   "id": "72ad8dac",
   "metadata": {},
   "source": [
    "#### L'inférence de $\\mu$:"
   ]
  },
  {
   "cell_type": "markdown",
   "id": "5d5e2f23",
   "metadata": {},
   "source": [
    "On utilise la fonction abc, avec la méthode loclinear : "
   ]
  },
  {
   "cell_type": "code",
   "execution_count": null,
   "id": "51823af0",
   "metadata": {
    "vscode": {
     "languageId": "r"
    }
   },
   "outputs": [],
   "source": [
    "abc_out <- abc(target = mean(reference_data[reference_data<filter]), param = param, sumstat = sumstat, method = \"loclinear\", tol = tol)\n"
   ]
  },
  {
   "cell_type": "markdown",
   "id": "07de877e",
   "metadata": {},
   "source": [
    "On affiche le résumé de résultats :"
   ]
  },
  {
   "cell_type": "code",
   "execution_count": null,
   "id": "5d72f677",
   "metadata": {
    "vscode": {
     "languageId": "r"
    }
   },
   "outputs": [],
   "source": [
    "summary(abc_out)"
   ]
  },
  {
   "cell_type": "markdown",
   "id": "cc0c89c4",
   "metadata": {},
   "source": [
    "##### Quelques graphiques :"
   ]
  },
  {
   "cell_type": "code",
   "execution_count": null,
   "id": "a4135ba0",
   "metadata": {
    "vscode": {
     "languageId": "r"
    }
   },
   "outputs": [],
   "source": [
    "hist(abc_out, breaks=30, caption=expression(mu))\n",
    "plot(abc_out, param=param)\n",
    "\n",
    "par(mfcol = c(1,3), mar=c(5,3,4,.5))\n",
    "boxplot(abc_out$adj.values, main=\"Estimations acceptées\")"
   ]
  },
  {
   "cell_type": "markdown",
   "id": "d98a75e4",
   "metadata": {},
   "source": [
    "l’espérance conditionnelle $E[θ|y]$ est le prédicteur optimal du paramètre mu au sens des moindres carrés."
   ]
  },
  {
   "cell_type": "code",
   "execution_count": null,
   "id": "05375fef",
   "metadata": {
    "vscode": {
     "languageId": "r"
    }
   },
   "outputs": [],
   "source": [
    "mean(abc_out$adj.values)\n"
   ]
  },
  {
   "cell_type": "markdown",
   "id": "335fa9ce",
   "metadata": {},
   "source": [
    "### Inférence du paramétre du fitness f"
   ]
  },
  {
   "cell_type": "markdown",
   "id": "90c73564",
   "metadata": {},
   "source": [
    "Comme dans la partie précédente, nous pouvons simuler ce paramètre à l'aide du code suivant :"
   ]
  },
  {
   "cell_type": "code",
   "execution_count": null,
   "id": "fa22ebe6",
   "metadata": {
    "vscode": {
     "languageId": "r"
    }
   },
   "outputs": [],
   "source": [
    "# La valeur réelle de f est 0.7.\n",
    "reference_data <- scan(\"dataChallengeB1e-6.txt\")\n",
    "\n",
    "N0 = 10\n",
    "N1 = 1e7\n",
    "d0 = 0\n",
    "mu = 1e-6\n",
    "\n",
    "filter = 10*median(reference_data)\n",
    "\n",
    "tol = 0.05\n",
    "n_sim = 5000\n",
    "n_param = 1\n",
    "\n",
    "prior <- function(n) runif(n, 0,1)\n",
    "\n",
    "modele <- function(fmutant) {\n",
    "    commande <- sprintf(\"./atreyu_forward_simulator %e,%e %e %e %e 1 384 > TauxMutation.txt ; cut -d' ' -f1 TauxMutation.txt > TauxMutation2.txt\", N0, N1, d0, mu, fmutant)\n",
    "    system(commande)\n",
    "    generated_data <- scan(\"TauxMutation2.txt\")\n",
    "    return (mean(generated_data[generated_data<filter]))\n",
    "}\n",
    "\n",
    "\n",
    "param <- matrix(prior(n_sim * n_param), ncol = n_param)\n",
    "sumstat <- matrix(apply(param, 1, modele), ncol = 1)\n",
    "abc_out <- abc(target = mean(reference_data[reference_data<filter]), param = param, sumstat = sumstat,  tol = tol,method = \"loclinear\", transf = \"log\")\n",
    "\n",
    "\n",
    "\n",
    "# afficher les résultats\n",
    "summary(abc_out)\n",
    "\n",
    "# plot des résultats\n",
    "hist(abc_out, breaks=30, caption=expression(mu))\n",
    "plot(abc_out, param=param)\n",
    "\n",
    "par(mfcol = c(1,3), mar=c(5,3,4,.5))\n",
    "boxplot(abc_out$adj.values, main=\"Estimations acceptées\")\n",
    "\n",
    "# l’espérance conditionnelle E[θ|y] est le prédicteur optimal du paramètre mu au sens des moindres carrés.\n",
    "print(\"L'estimation de notre paramètre :\")\n",
    "mean(abc_out$adj.values)"
   ]
  },
  {
   "cell_type": "markdown",
   "id": "bcdda166",
   "metadata": {},
   "source": [
    "### Inférence du paramétre (f, $\\mu$) "
   ]
  },
  {
   "cell_type": "markdown",
   "id": "14ffc19b",
   "metadata": {},
   "source": [
    "Maintenant on va essayer de faire l'inférence des deux paramètres à la fois.\n",
    "\n",
    "**1er idée** : On travaille avec une seule statistique qui est la moyenne :\n"
   ]
  },
  {
   "cell_type": "code",
   "execution_count": null,
   "id": "31ff4df9",
   "metadata": {
    "vscode": {
     "languageId": "r"
    }
   },
   "outputs": [],
   "source": [
    "\n",
    "reference_data <- scan(\"dataChallengeB1e-7.txt\")\n",
    "\n",
    "mu_median <- median(reference_data)/1e7\n",
    "\n",
    "N0 = 10\n",
    "N1 = 1e7\n",
    "d0 = 0\n",
    "\n",
    "filter = 10*median(reference_data)\n",
    "\n",
    "tol = 0.05\n",
    "n_sim = 5000\n",
    "n_param = 2\n",
    "\n",
    "prior1 <- function(n) runif(n, 10^(log10(mu_median) - 1), 10^(log10(mu_median) + 1))\n",
    "prior2 <- function(n) runif(n,0,1)\n",
    "\n",
    "modele <- function(params) {\n",
    "  mu <- params[1]\n",
    "  fmutant <- params[2]\n",
    "  commande <- sprintf(\"./atreyu_forward_simulator %e,%e %e %e %e 1 384 > TauxMutation.txt ; cut -d' ' -f1 TauxMutation.txt > TauxMutation2.txt\", N0, N1, d0, mu, fmutant)\n",
    "  system(commande)\n",
    "  generated_data <- scan(\"TauxMutation2.txt\")\n",
    "  return (c(mean(generated_data[generated_data<filter])))\n",
    "}\n",
    "\n",
    "\n",
    "param <- matrix(c(prior1(n_sim),prior2(n_sim)), ncol = n_param)\n",
    "sumstat <- matrix(apply(param, 1, modele), ncol = 1)\n",
    "\n",
    "\n",
    "cv.res.rej <- cv4abc(param,sumstat,nval=10,tols=c(.005,.01,.05),statistic =\"mean\" ,method = \"rejection\")\n",
    "cv.res.reg <- cv4abc(param,sumstat,nval=10,tols=c(.005,.01,.05),statistic = \"mean\" ,method = \"loclinear\")\n",
    "summary(cv.res.rej)\n",
    "summary(cv.res.reg)\n",
    "par(mfrow=c(1,2), mar=c(5,3,4,.5), cex=.8)\n",
    "plot(cv.res.rej, caption=\"Rejection\")\n",
    "plot(cv.res.reg, caption=\"Local linear regression\")"
   ]
  },
  {
   "cell_type": "markdown",
   "id": "20c9ba58",
   "metadata": {},
   "source": [
    "Les points du graphique de cross validation ne sont pas dispersés autour de la ligne d'identité pour le paramètre f, ce qui indique que f ne peut être bien estimé à l'aide des nos statistiques sommaires (le mean dans notre cas).\n",
    "Les points du graphique pour le 1er paramètre sont un peu bien dispersés autour de la ligne d'identité. Cela veut dire qu'à l'aide de nos statistiques sommaires, on va avoir une estimation plus ou moins bien pour le 1er paramètre $\\mu$, mais pas pour le 2éme :"
   ]
  },
  {
   "cell_type": "code",
   "execution_count": null,
   "id": "4410c60f",
   "metadata": {
    "vscode": {
     "languageId": "r"
    }
   },
   "outputs": [],
   "source": [
    "abc_out <- abc(target = c(median(reference_data[reference_data<filter])), param = param, sumstat = sumstat, tol = tol ,method = \"loclinear\",transf = c(\"none\",\"log\"))\n",
    "\n",
    "# l’espérance conditionnelle E[θ|y] est le prédicteur optimal du paramètre mu au sens des moindres carrés.\n",
    "print(\"L'estimation de notre 1er paramètre :\")\n",
    "mean(abc_out$adj.values[,1])\n",
    "print(\"L'estimation de notre 2eme paramètre :\")\n",
    "mean(abc_out$adj.values[,2])"
   ]
  },
  {
   "cell_type": "markdown",
   "id": "42529d66",
   "metadata": {},
   "source": [
    "**2ème idée** : Est ce que si on augmente le nombre de statistiques, on va avoir des bon résultats ?\n",
    "\n",
    "On va essayer d'ajouter une autre statistique de variabilité qui est la variance :"
   ]
  },
  {
   "cell_type": "code",
   "execution_count": null,
   "id": "4a3f85d6",
   "metadata": {
    "vscode": {
     "languageId": "r"
    }
   },
   "outputs": [],
   "source": [
    "reference_data <- scan(\"dataChallengeB1e-7.txt\")\n",
    "\n",
    "mu_median <- median(reference_data)/1e7\n",
    "\n",
    "N0 = 10\n",
    "N1 = 1e7\n",
    "d0 = 0\n",
    "\n",
    "filter = 10*median(reference_data)\n",
    "\n",
    "tol = 0.05\n",
    "n_sim = 5000\n",
    "n_param = 2\n",
    "\n",
    "prior1 <- function(n) runif(n, 10^(log10(mu_median) - 1), 10^(log10(mu_median) + 1))\n",
    "prior2 <- function(n) runif(n,0,1)\n",
    "\n",
    "modele <- function(params) {\n",
    "  mu <- params[1]\n",
    "  fmutant <- params[2]\n",
    "  commande <- sprintf(\"./atreyu_forward_simulator %e,%e %e %e %e 1 384 > TauxMutation.txt ; cut -d' ' -f1 TauxMutation.txt > TauxMutation2.txt\", N0, N1, d0, mu, fmutant)\n",
    "  system(commande)\n",
    "  generated_data <- scan(\"TauxMutation2.txt\")\n",
    "  return (c(mean(generated_data[generated_data<filter]),sd(generated_data[generated_data<filter])))\n",
    "  \n",
    "}\n",
    "\n",
    "\n",
    "param <- matrix(c(prior1(n_sim),prior2(n_sim)), ncol = n_param)\n",
    "sumstat <- matrix(apply(param, 1, modele), ncol = 2)\n",
    "\n",
    "\n",
    "cv.res.rej <- cv4abc(param,sumstat,nval=10,tols=c(.005,.01,.05),statistic =\"mean\" ,method = \"rejection\")\n",
    "cv.res.reg <- cv4abc(param,sumstat,nval=10,tols=c(.005,.01,.05),statistic = \"mean\" ,method = \"loclinear\")\n",
    "summary(cv.res.rej)\n",
    "summary(cv.res.reg)\n",
    "par(mfrow=c(1,2), mar=c(5,3,4,.5), cex=.8)\n",
    "plot(cv.res.rej, caption=\"Rejection\")\n",
    "plot(cv.res.reg, caption=\"Local linear regression\")"
   ]
  },
  {
   "cell_type": "markdown",
   "id": "fd727720",
   "metadata": {},
   "source": [
    "On remarque que les résultats sont beaucoup plus pires que la première idée, et on ne peut pas estimer aucun des deux paramètres. En fait on avait essayé de faire plusieurs types de statistiques mais on n'a pas obtenu des bons résultats. le problème devient très difficile puisqu'il faut choisir les bons statistiques informatifs (qui tendent vers l’exhaustivité)."
   ]
  },
  {
   "cell_type": "markdown",
   "id": "d61ab78a",
   "metadata": {},
   "source": [
    "### Metropolis Hasting"
   ]
  },
  {
   "cell_type": "code",
   "execution_count": 724,
   "id": "2b9beaff",
   "metadata": {
    "vscode": {
     "languageId": "r"
    }
   },
   "outputs": [
    {
     "name": "stdout",
     "output_type": "stream",
     "text": [
      "[1] 1.18252e-05\n"
     ]
    }
   ],
   "source": [
    "cost_function_1 <- function(N0, N1, d0, fmutant, reference_data, mu, p) {\n",
    "    l <- c()\n",
    "    for (i in 1:10){\n",
    "      commande <- sprintf(\"./atreyu_forward_simulator %e,%e %e %e %e %e 384 | cut -d' ' -f1 > TauxMutation2.txt\", N0, N1, d0, mu, fmutant, p)\n",
    "      system(commande)\n",
    "      generated_data <- scan(\"TauxMutation2.txt\")\n",
    "      ks_statistic <- suppressWarnings(ks.test(generated_data, reference_data)$statistic)\n",
    "      l <- c(l, (1/as.double(ks_statistic)))\n",
    "    }\n",
    "    return(mean(l))\n",
    "}\n",
    "\n",
    "inference_metropolis_hasting <- function(N0, N1, d0, fmutant, p, sample_file) {\n",
    "    \n",
    "    reference_data = scan(sample_file)\n",
    "\n",
    "    mu  = median(reference_data) / N1\n",
    "    cost_function_mu = cost_function_1(N0, N1, d0, fmutant, reference_data, mu, p)\n",
    "    les_mu <- c()\n",
    "    proposal = function(mu, sdd){\n",
    "      x =  rnorm(1,mean = 1, sd = sdd)\n",
    "      if (x < 0){\n",
    "        x = -x\n",
    "      }\n",
    "      les_mu <- c(les_mu, mu*x)\n",
    "\n",
    "      return  ( mu * x)\n",
    "    }\n",
    "\n",
    "    chain <- c()\n",
    "    liste_mu_star <- c()\n",
    "    n_iter = 20\n",
    "    list_v <- c()\n",
    "    variances <- c(1,10,30,40 )\n",
    "    for (i in 1:n_iter) {\n",
    "        variance <- sample(variances)[1]\n",
    "        list_v <- c(list_v, variance)\n",
    "\n",
    "        mu_star <- proposal(mu, variance)\n",
    "\n",
    "        liste_mu_star <- c(liste_mu_star, mu_star)\n",
    "        cost_function_mu_star <- cost_function_1(N0, N1, d0, fmutant, reference_data, mu_star, p)\n",
    "        quotient <- cost_function_mu_star / cost_function_mu\n",
    "        r <- min(1,quotient)\n",
    "        v =  runif(n = 1)\n",
    "        if (quotient > 1) {\n",
    "          mu = mu_star\n",
    "          cost_function_mu = cost_function_mu_star\n",
    "        }\n",
    "\n",
    "        chain <- c(chain, mu)\n",
    "    }\n",
    "\n",
    "    variances <- c(0.1,0.5, 0.01)\n",
    "    mu_fix <- mean(chain[(n_iter-10):n_iter])\n",
    "    proposal_2 <- function(mo, sdd){\n",
    "       x =  rnorm(1,mean = mo, sd = sdd)\n",
    "      if (x < 0){\n",
    "        x = -x\n",
    "      }\n",
    "       return (x)\n",
    "    }\n",
    "    for (i in 1:20) {\n",
    "        variance <- sample(variances)[1]\n",
    "        list_v <- c(list_v, variance)\n",
    "\n",
    "        mu_star <- proposal_2(mu_fix, variance*mu_fix)\n",
    "\n",
    "        liste_mu_star <- c(liste_mu_star, mu_star)\n",
    "        cost_function_mu_star <- cost_function_1(N0, N1, d0, fmutant, reference_data, mu_star, p)\n",
    "        quotient <- cost_function_mu_star / cost_function_mu\n",
    "        r <- min(1,quotient)\n",
    "        v =  runif(n = 1)\n",
    "        if (quotient > 1) {\n",
    "          mu = mu_star\n",
    "          cost_function_mu = cost_function_mu_star\n",
    "        }\n",
    "\n",
    "        chain <- c(chain, mu)\n",
    "    }\n",
    "    \n",
    "    return (chain[length(chain)])\n",
    "}\n",
    "\n",
    "print(inference_metropolis_hasting(10, 1e7, 0, 0.7, 1, \"dataChallengeB1e-5.txt\"))\n",
    "\n",
    "if (FALSE) {\n",
    "    vector = c(1:100)\n",
    "\n",
    "    for (i in 1:100) {\n",
    "        vector[i] = inference_metropolis_hasting(10, 1e7, 0, 0.7, 1,\"dataChallengeB3e-6.txt\")\n",
    "    }\n",
    "\n",
    "    writeLines(as.character(vector), \"3e-6_inference_metropolis_hasting.txt\")\n",
    "}"
   ]
  },
  {
   "cell_type": "markdown",
   "id": "7ce20973",
   "metadata": {},
   "source": [
    "### Prolongement rétrécissement d'intervalles en 2D"
   ]
  },
  {
   "cell_type": "code",
   "execution_count": 4,
   "id": "7a8a7d90",
   "metadata": {
    "scrolled": false,
    "vscode": {
     "languageId": "r"
    }
   },
   "outputs": [
    {
     "name": "stderr",
     "output_type": "stream",
     "text": [
      "Warning message in ks.test(generated_data, reference_data):\n",
      "“p-value will be approximate in the presence of ties”\n",
      "Warning message in ks.test(generated_data, reference_data):\n",
      "“p-value will be approximate in the presence of ties”\n",
      "Warning message in ks.test(generated_data, reference_data):\n",
      "“p-value will be approximate in the presence of ties”\n",
      "Warning message in ks.test(generated_data, reference_data):\n",
      "“p-value will be approximate in the presence of ties”\n",
      "Warning message in ks.test(generated_data, reference_data):\n",
      "“p-value will be approximate in the presence of ties”\n",
      "Warning message in ks.test(generated_data, reference_data):\n",
      "“p-value will be approximate in the presence of ties”\n",
      "Warning message in ks.test(generated_data, reference_data):\n",
      "“p-value will be approximate in the presence of ties”\n",
      "Warning message in ks.test(generated_data, reference_data):\n",
      "“p-value will be approximate in the presence of ties”\n",
      "Warning message in ks.test(generated_data, reference_data):\n",
      "“p-value will be approximate in the presence of ties”\n",
      "Warning message in ks.test(generated_data, reference_data):\n",
      "“p-value will be approximate in the presence of ties”\n",
      "Warning message in ks.test(generated_data, reference_data):\n",
      "“p-value will be approximate in the presence of ties”\n",
      "Warning message in ks.test(generated_data, reference_data):\n",
      "“p-value will be approximate in the presence of ties”\n",
      "Warning message in ks.test(generated_data, reference_data):\n",
      "“p-value will be approximate in the presence of ties”\n",
      "Warning message in ks.test(generated_data, reference_data):\n",
      "“p-value will be approximate in the presence of ties”\n",
      "Warning message in ks.test(generated_data, reference_data):\n",
      "“p-value will be approximate in the presence of ties”\n",
      "Warning message in ks.test(generated_data, reference_data):\n",
      "“p-value will be approximate in the presence of ties”\n",
      "Warning message in ks.test(generated_data, reference_data):\n",
      "“p-value will be approximate in the presence of ties”\n",
      "Warning message in ks.test(generated_data, reference_data):\n",
      "“p-value will be approximate in the presence of ties”\n",
      "Warning message in ks.test(generated_data, reference_data):\n",
      "“p-value will be approximate in the presence of ties”\n",
      "Warning message in ks.test(generated_data, reference_data):\n",
      "“p-value will be approximate in the presence of ties”\n",
      "Warning message in ks.test(generated_data, reference_data):\n",
      "“p-value will be approximate in the presence of ties”\n",
      "Warning message in ks.test(generated_data, reference_data):\n",
      "“p-value will be approximate in the presence of ties”\n",
      "Warning message in ks.test(generated_data, reference_data):\n",
      "“p-value will be approximate in the presence of ties”\n",
      "Warning message in ks.test(generated_data, reference_data):\n",
      "“p-value will be approximate in the presence of ties”\n",
      "Warning message in ks.test(generated_data, reference_data):\n",
      "“p-value will be approximate in the presence of ties”\n",
      "Warning message in ks.test(generated_data, reference_data):\n",
      "“p-value will be approximate in the presence of ties”\n",
      "Warning message in ks.test(generated_data, reference_data):\n",
      "“p-value will be approximate in the presence of ties”\n",
      "Warning message in ks.test(generated_data, reference_data):\n",
      "“p-value will be approximate in the presence of ties”\n",
      "Warning message in ks.test(generated_data, reference_data):\n",
      "“p-value will be approximate in the presence of ties”\n",
      "Warning message in ks.test(generated_data, reference_data):\n",
      "“p-value will be approximate in the presence of ties”\n",
      "Warning message in ks.test(generated_data, reference_data):\n",
      "“p-value will be approximate in the presence of ties”\n",
      "Warning message in ks.test(generated_data, reference_data):\n",
      "“p-value will be approximate in the presence of ties”\n",
      "Warning message in ks.test(generated_data, reference_data):\n",
      "“p-value will be approximate in the presence of ties”\n",
      "Warning message in ks.test(generated_data, reference_data):\n",
      "“p-value will be approximate in the presence of ties”\n",
      "Warning message in ks.test(generated_data, reference_data):\n",
      "“p-value will be approximate in the presence of ties”\n",
      "Warning message in ks.test(generated_data, reference_data):\n",
      "“p-value will be approximate in the presence of ties”\n",
      "Warning message in ks.test(generated_data, reference_data):\n",
      "“p-value will be approximate in the presence of ties”\n",
      "Warning message in ks.test(generated_data, reference_data):\n",
      "“p-value will be approximate in the presence of ties”\n",
      "Warning message in ks.test(generated_data, reference_data):\n",
      "“p-value will be approximate in the presence of ties”\n",
      "Warning message in ks.test(generated_data, reference_data):\n",
      "“p-value will be approximate in the presence of ties”\n",
      "Warning message in ks.test(generated_data, reference_data):\n",
      "“p-value will be approximate in the presence of ties”\n",
      "Warning message in ks.test(generated_data, reference_data):\n",
      "“p-value will be approximate in the presence of ties”\n",
      "Warning message in ks.test(generated_data, reference_data):\n",
      "“p-value will be approximate in the presence of ties”\n",
      "Warning message in ks.test(generated_data, reference_data):\n",
      "“p-value will be approximate in the presence of ties”\n",
      "Warning message in ks.test(generated_data, reference_data):\n",
      "“p-value will be approximate in the presence of ties”\n",
      "Warning message in ks.test(generated_data, reference_data):\n",
      "“p-value will be approximate in the presence of ties”\n",
      "Warning message in ks.test(generated_data, reference_data):\n",
      "“p-value will be approximate in the presence of ties”\n",
      "Warning message in ks.test(generated_data, reference_data):\n",
      "“p-value will be approximate in the presence of ties”\n",
      "Warning message in ks.test(generated_data, reference_data):\n",
      "“p-value will be approximate in the presence of ties”\n",
      "Warning message in ks.test(generated_data, reference_data):\n",
      "“p-value will be approximate in the presence of ties”\n",
      "Warning message in ks.test(generated_data, reference_data):\n",
      "“p-value will be approximate in the presence of ties”\n",
      "Warning message in ks.test(generated_data, reference_data):\n",
      "“p-value will be approximate in the presence of ties”\n",
      "Warning message in ks.test(generated_data, reference_data):\n",
      "“p-value will be approximate in the presence of ties”\n",
      "Warning message in ks.test(generated_data, reference_data):\n",
      "“p-value will be approximate in the presence of ties”\n",
      "Warning message in ks.test(generated_data, reference_data):\n",
      "“p-value will be approximate in the presence of ties”\n",
      "Warning message in ks.test(generated_data, reference_data):\n",
      "“p-value will be approximate in the presence of ties”\n",
      "Warning message in ks.test(generated_data, reference_data):\n",
      "“p-value will be approximate in the presence of ties”\n",
      "Warning message in ks.test(generated_data, reference_data):\n",
      "“p-value will be approximate in the presence of ties”\n",
      "Warning message in ks.test(generated_data, reference_data):\n",
      "“p-value will be approximate in the presence of ties”\n",
      "Warning message in ks.test(generated_data, reference_data):\n",
      "“p-value will be approximate in the presence of ties”\n",
      "Warning message in ks.test(generated_data, reference_data):\n",
      "“p-value will be approximate in the presence of ties”\n",
      "Warning message in ks.test(generated_data, reference_data):\n",
      "“p-value will be approximate in the presence of ties”\n",
      "Warning message in ks.test(generated_data, reference_data):\n",
      "“p-value will be approximate in the presence of ties”\n",
      "Warning message in ks.test(generated_data, reference_data):\n",
      "“p-value will be approximate in the presence of ties”\n",
      "Warning message in ks.test(generated_data, reference_data):\n",
      "“p-value will be approximate in the presence of ties”\n",
      "Warning message in ks.test(generated_data, reference_data):\n",
      "“p-value will be approximate in the presence of ties”\n",
      "Warning message in ks.test(generated_data, reference_data):\n",
      "“p-value will be approximate in the presence of ties”\n",
      "Warning message in ks.test(generated_data, reference_data):\n",
      "“p-value will be approximate in the presence of ties”\n",
      "Warning message in ks.test(generated_data, reference_data):\n",
      "“p-value will be approximate in the presence of ties”\n",
      "Warning message in ks.test(generated_data, reference_data):\n",
      "“p-value will be approximate in the presence of ties”\n",
      "Warning message in ks.test(generated_data, reference_data):\n",
      "“p-value will be approximate in the presence of ties”\n",
      "Warning message in ks.test(generated_data, reference_data):\n",
      "“p-value will be approximate in the presence of ties”\n"
     ]
    },
    {
     "name": "stderr",
     "output_type": "stream",
     "text": [
      "Warning message in ks.test(generated_data, reference_data):\n",
      "“p-value will be approximate in the presence of ties”\n",
      "Warning message in ks.test(generated_data, reference_data):\n",
      "“p-value will be approximate in the presence of ties”\n",
      "Warning message in ks.test(generated_data, reference_data):\n",
      "“p-value will be approximate in the presence of ties”\n",
      "Warning message in ks.test(generated_data, reference_data):\n",
      "“p-value will be approximate in the presence of ties”\n",
      "Warning message in ks.test(generated_data, reference_data):\n",
      "“p-value will be approximate in the presence of ties”\n",
      "Warning message in ks.test(generated_data, reference_data):\n",
      "“p-value will be approximate in the presence of ties”\n",
      "Warning message in ks.test(generated_data, reference_data):\n",
      "“p-value will be approximate in the presence of ties”\n",
      "Warning message in ks.test(generated_data, reference_data):\n",
      "“p-value will be approximate in the presence of ties”\n",
      "Warning message in ks.test(generated_data, reference_data):\n",
      "“p-value will be approximate in the presence of ties”\n",
      "Warning message in ks.test(generated_data, reference_data):\n",
      "“p-value will be approximate in the presence of ties”\n",
      "Warning message in ks.test(generated_data, reference_data):\n",
      "“p-value will be approximate in the presence of ties”\n",
      "Warning message in ks.test(generated_data, reference_data):\n",
      "“p-value will be approximate in the presence of ties”\n",
      "Warning message in ks.test(generated_data, reference_data):\n",
      "“p-value will be approximate in the presence of ties”\n",
      "Warning message in ks.test(generated_data, reference_data):\n",
      "“p-value will be approximate in the presence of ties”\n",
      "Warning message in ks.test(generated_data, reference_data):\n",
      "“p-value will be approximate in the presence of ties”\n",
      "Warning message in ks.test(generated_data, reference_data):\n",
      "“p-value will be approximate in the presence of ties”\n",
      "Warning message in ks.test(generated_data, reference_data):\n",
      "“p-value will be approximate in the presence of ties”\n",
      "Warning message in ks.test(generated_data, reference_data):\n",
      "“p-value will be approximate in the presence of ties”\n",
      "Warning message in ks.test(generated_data, reference_data):\n",
      "“p-value will be approximate in the presence of ties”\n",
      "Warning message in ks.test(generated_data, reference_data):\n",
      "“p-value will be approximate in the presence of ties”\n",
      "Warning message in ks.test(generated_data, reference_data):\n",
      "“p-value will be approximate in the presence of ties”\n",
      "Warning message in ks.test(generated_data, reference_data):\n",
      "“p-value will be approximate in the presence of ties”\n",
      "Warning message in ks.test(generated_data, reference_data):\n",
      "“p-value will be approximate in the presence of ties”\n",
      "Warning message in ks.test(generated_data, reference_data):\n",
      "“p-value will be approximate in the presence of ties”\n",
      "Warning message in ks.test(generated_data, reference_data):\n",
      "“p-value will be approximate in the presence of ties”\n",
      "Warning message in ks.test(generated_data, reference_data):\n",
      "“p-value will be approximate in the presence of ties”\n",
      "Warning message in ks.test(generated_data, reference_data):\n",
      "“p-value will be approximate in the presence of ties”\n",
      "Warning message in ks.test(generated_data, reference_data):\n",
      "“p-value will be approximate in the presence of ties”\n",
      "Warning message in ks.test(generated_data, reference_data):\n",
      "“p-value will be approximate in the presence of ties”\n",
      "Warning message in ks.test(generated_data, reference_data):\n",
      "“p-value will be approximate in the presence of ties”\n",
      "Warning message in ks.test(generated_data, reference_data):\n",
      "“p-value will be approximate in the presence of ties”\n",
      "Warning message in ks.test(generated_data, reference_data):\n",
      "“p-value will be approximate in the presence of ties”\n",
      "Warning message in ks.test(generated_data, reference_data):\n",
      "“p-value will be approximate in the presence of ties”\n",
      "Warning message in ks.test(generated_data, reference_data):\n",
      "“p-value will be approximate in the presence of ties”\n",
      "Warning message in ks.test(generated_data, reference_data):\n",
      "“p-value will be approximate in the presence of ties”\n",
      "Warning message in ks.test(generated_data, reference_data):\n",
      "“p-value will be approximate in the presence of ties”\n",
      "Warning message in ks.test(generated_data, reference_data):\n",
      "“p-value will be approximate in the presence of ties”\n",
      "Warning message in ks.test(generated_data, reference_data):\n",
      "“p-value will be approximate in the presence of ties”\n",
      "Warning message in ks.test(generated_data, reference_data):\n",
      "“p-value will be approximate in the presence of ties”\n",
      "Warning message in ks.test(generated_data, reference_data):\n",
      "“p-value will be approximate in the presence of ties”\n",
      "Warning message in ks.test(generated_data, reference_data):\n",
      "“p-value will be approximate in the presence of ties”\n",
      "Warning message in ks.test(generated_data, reference_data):\n",
      "“p-value will be approximate in the presence of ties”\n",
      "Warning message in ks.test(generated_data, reference_data):\n",
      "“p-value will be approximate in the presence of ties”\n",
      "Warning message in ks.test(generated_data, reference_data):\n",
      "“p-value will be approximate in the presence of ties”\n",
      "Warning message in ks.test(generated_data, reference_data):\n",
      "“p-value will be approximate in the presence of ties”\n",
      "Warning message in ks.test(generated_data, reference_data):\n",
      "“p-value will be approximate in the presence of ties”\n",
      "Warning message in ks.test(generated_data, reference_data):\n",
      "“p-value will be approximate in the presence of ties”\n",
      "Warning message in ks.test(generated_data, reference_data):\n",
      "“p-value will be approximate in the presence of ties”\n",
      "Warning message in ks.test(generated_data, reference_data):\n",
      "“p-value will be approximate in the presence of ties”\n"
     ]
    },
    {
     "name": "stdout",
     "output_type": "stream",
     "text": [
      "[1] 0.07291667\n",
      "[1] 1.261915e-07 1.000000e+00\n"
     ]
    }
   ],
   "source": [
    "cost_function <- function(mu, reference_data, N0, N1, d0, fmutant, p) {\n",
    "    commande <- sprintf(\"./atreyu_forward_simulator %e,%e %e %e %e %e 384 | cut -d' ' -f1 > TauxMutation2.txt\", N0, N1, d0, mu, fmutant, p)\n",
    "    system(commande)\n",
    "    generated_data <- scan(\"TauxMutation2.txt\")\n",
    "    ks_statistic <- ks.test(generated_data, reference_data)$statistic\n",
    "    return(as.double(ks_statistic))\n",
    "}\n",
    "\n",
    "inference_retrec_interval_2d <- function(N0, N1, d0, p, sample_file, cost_function) {\n",
    "    reference_data = scan(sample_file)\n",
    "                \n",
    "    mu_init = median(reference_data)/N1\n",
    "    fmutant_init = 1\n",
    "    \n",
    "    \n",
    "    pas_mu = 1\n",
    "    pas_fmutant = 0.35\n",
    "    \n",
    "    cost <- 1\n",
    "    \n",
    "    x <- 0\n",
    "    y <- 0\n",
    "    z <- 0\n",
    "\n",
    "    for (j in 1:1) {\n",
    "        x <- seq(log10(mu_init) - pas_mu, log10(mu_init) + pas_mu, by = 2*pas_mu/10)\n",
    "        y1 <- 10^x\n",
    "        x2 <- seq(log10(fmutant_init) - pas_fmutant, log10(fmutant_init) + pas_fmutant, by = 2*pas_fmutant/10)\n",
    "        y2 <- 10^x2\n",
    "                \n",
    "        matrice_parametres = expand.grid(y1, y2)\n",
    "                \n",
    "        cost_function_values  = c(1:length(matrice_parametres[, 1]))\n",
    "        \n",
    "        x <- c(1:length(matrice_parametres[, 1]))\n",
    "        y <- c(1:length(matrice_parametres[, 1]))\n",
    "        z <- c(1:length(matrice_parametres[, 1]))\n",
    "        \n",
    "        for (i in 1:length(matrice_parametres[, 1])) {\n",
    "            cost_function_values[i] = cost_function(matrice_parametres[i, 1], reference_data, N0, N1, d0, matrice_parametres[i, 2], p)\n",
    "            x[i] = matrice_parametres[i, 1]\n",
    "            y[i] = matrice_parametres[i, 2]\n",
    "            z[i] = cost_function_values[i]\n",
    "        }\n",
    "                \n",
    "        indice_min = which.min(cost_function_values)\n",
    "                \n",
    "        mu_init = matrice_parametres[indice_min, 1]\n",
    "        fmutant_init = matrice_parametres[indice_min, 2]\n",
    "        \n",
    "        cost <- min(cost_function_values)\n",
    "        \n",
    "        print(cost)\n",
    "        print(c(mu_init, fmutant_init))\n",
    "        pas_mu = max(pas_mu/2, 0.1)\n",
    "        if ((pas_fmutant > 0.1) && cost < 0.4 ) {\n",
    "              pas_fmutant = pas_fmutant/2\n",
    "        }\n",
    "    }\n",
    "    \n",
    "    return(list(mu_init, fmutant_init, x, y, z))\n",
    "}\n",
    "\n",
    "vector <- inference_retrec_interval_2d(10, 1e7, 0, 1, \"datachallengeA\", cost_function)"
   ]
  },
  {
   "cell_type": "code",
   "execution_count": 615,
   "id": "ebde263b",
   "metadata": {},
   "outputs": [
    {
     "data": {
      "text/html": [
       "<style>\n",
       ".list-inline {list-style: none; margin:0; padding: 0}\n",
       ".list-inline>li {display: inline-block}\n",
       ".list-inline>li:not(:last-child)::after {content: \"\\00b7\"; padding: 0 .5ex}\n",
       "</style>\n",
       "<ol class=list-inline><li>1.346340764829e-07</li><li>0.827882590628048</li></ol>\n"
      ],
      "text/latex": [
       "\\begin{enumerate*}\n",
       "\\item 1.346340764829e-07\n",
       "\\item 0.827882590628048\n",
       "\\end{enumerate*}\n"
      ],
      "text/markdown": [
       "1. 1.346340764829e-07\n",
       "2. 0.827882590628048\n",
       "\n",
       "\n"
      ],
      "text/plain": [
       "[1] 1.346341e-07 8.278826e-01"
      ]
     },
     "metadata": {},
     "output_type": "display_data"
    }
   ],
   "source": [
    "gradient_mu_fmutant <- function(mu, reference_data, h1, h2, cost_function, N0, N1, d0, fmutant, p) {\n",
    "    return (c((cost_function(10^(log10(mu) + h1), reference_data, N0, N1, d0, fmutant, p) - cost_function(10^(log10(mu) - h1), reference_data, N0, N1, d0, fmutant, p))/(2*h1), (cost_function(mu, reference_data, N0, N1, d0, 10^(log10(fmutant) + h2), p) - cost_function(mu, reference_data, N0, N1, d0, 10^(log10(fmutant) - h2), p))/(2*h2)))\n",
    "}\n",
    "\n",
    "\n",
    "inference_gradient_decent_2d <- function(N0, N1, d0, p, sample_file, cost_function, cost_function_derivee_log) {\n",
    "    reference_data <- scan(sample_file)\n",
    "\n",
    "    mu <- median(reference_data)/N1\n",
    "    fmutant <- 1\n",
    "    \n",
    "    pas_mu <- 0.1\n",
    "    pas_fmutant <- 0.2\n",
    "    \n",
    "    cost = 1\n",
    "    \n",
    "    runner_up = c(1:3)\n",
    "    runner_up[1] = mu\n",
    "    runner_up[2] = fmutant\n",
    "    runner_up[3] = cost_function(mu, reference_data, N0, N1, d0, fmutant, p)\n",
    "    \n",
    "    counter = 0\n",
    "    \n",
    "    while (cost > 0.05) {\n",
    "        # Calculer le gradient de la fonction de coût par rapport à mu\n",
    "        gradient_value <- gradient_mu_fmutant(mu, reference_data, pas_mu, pas_fmutant, cost_function, N0, N1, d0, fmutant, p)\n",
    "                \n",
    "        # Mettre à jour la valeur de mu en fonction du gradient et du taux d'apprentissage\n",
    "        mu <- 10^(log10(mu) - 0.1*gradient_value[1])\n",
    "        fmutant <- 10^(log10(fmutant) - 0.1*gradient_value[2])\n",
    "        \n",
    "        cost <- cost_function(mu, reference_data, N0, N1, d0, fmutant, p)\n",
    "        if (cost < runner_up[3]) {\n",
    "            runner_up[1] = mu\n",
    "            runner_up[2] = fmutant\n",
    "            runner_up[3] = cost\n",
    "        }\n",
    "        counter <- counter + 1\n",
    "        \n",
    "        if (counter == 30) {\n",
    "            break\n",
    "        }\n",
    "    }\n",
    "    return(c(runner_up[1], runner_up[2]))\n",
    "}\n",
    "\n",
    "inference_gradient_decent_2d(10, 1e7, 0, 1, \"datachallengeA\", cost_function, gradient_mu_fmutant)"
   ]
  },
  {
   "cell_type": "code",
   "execution_count": 5,
   "id": "2821ad84",
   "metadata": {},
   "outputs": [
    {
     "name": "stderr",
     "output_type": "stream",
     "text": [
      "Warning message in par3d(userMatrix = structure(c(1, 0, 0, 0, 0, 0.342020143325668, :\n",
      "“font family \"sans\" not found, using \"bitmap\"”\n"
     ]
    }
   ],
   "source": [
    "library(rgl)\n",
    "\n",
    "x <- unlist(vector[3])\n",
    "y <- unlist(vector[4])\n",
    "z <- unlist(vector[5])\n",
    "\n",
    "plot3d(x, y, z, type = \"n\")\n"
   ]
  },
  {
   "cell_type": "markdown",
   "id": "81c26831",
   "metadata": {},
   "source": [
    "### Estimation valeur fitness test"
   ]
  },
  {
   "cell_type": "code",
   "execution_count": null,
   "id": "3fce6f10",
   "metadata": {},
   "outputs": [],
   "source": [
    "cost_function <- function(mu, reference_data, N0, N1, d0, fmutant, p) {\n",
    "    commande <- sprintf(\"./atreyu_forward_simulator %e,%e %e %e %e %e 3840 | cut -d' ' -f1 > TauxMutation2.txt\", N0, N1, d0, mu, fmutant, p)\n",
    "    system(commande)\n",
    "    generated_data <- scan(\"TauxMutation2.txt\")\n",
    "    ks_statistic <- ks.test(generated_data, reference_data)$statistic\n",
    "    return(as.double(ks_statistic))\n",
    "}\n",
    "\n",
    "\n",
    "inference_retrec_interval_fmutant <- function(N0, N1, d0, mu, p, sample_file, cost_function) {\n",
    "    reference_data = scan(sample_file)\n",
    "            \n",
    "    fmutant_init = 1\n",
    "\n",
    "    pas_fmutant = 0.4\n",
    "    \n",
    "    cost = 1\n",
    "    tours = 0\n",
    "\n",
    "    while (cost > 0.04) {\n",
    "        \n",
    "        tours <- tours + 1\n",
    "        \n",
    "        x <- seq(log10(fmutant_init) - pas, log10(fmutant_init) + pas, by = 2*pas_fmutant/10)\n",
    "        \n",
    "        y <- 10^x\n",
    "\n",
    "        cost_function_values = c(1:length(y))\n",
    "\n",
    "        for (i in 1:length(y)) {\n",
    "            cost_function_values[i] = cost_function(mu, reference_data, N0, N1, d0, y[i], p)\n",
    "        }\n",
    "\n",
    "        fmutant_init = y[which.min(cost_function_values)]\n",
    "        \n",
    "        cost <- min(cost_function_values)\n",
    "        \n",
    "        if (pas_fmutant >= 0.1 && min(cost_function_values) < 0.4) {\n",
    "            pas_fmutant = pas_fmutant/2\n",
    "        }\n",
    "        \n",
    "        if (tours >= 20) {\n",
    "            break\n",
    "        }\n",
    "    }\n",
    "    \n",
    "    return(fmutant_init)\n",
    "}\n",
    "\n",
    "\n",
    "print(inference_retrec_interval_fmutant(10, 1e7, 0, 8e-7, 1, \"dataChallengeC_mu8e-7_fit3e-1.txt\", cost_function))"
   ]
  },
  {
   "cell_type": "code",
   "execution_count": 45,
   "id": "1a48de0b",
   "metadata": {
    "scrolled": true
   },
   "outputs": [],
   "source": [
    "dataChallenge2 <- readLines(\"./challenges/challenge2.data\")\n",
    "fitnessChallenge2 <- readLines(\"./challenges/challenge2.f\")\n",
    "deathChallenge2 <- readLines(\"./challenges/challenge2.d\")\n",
    "samplingChallenge2 <- readLines(\"./challenges/challenge2.p\")\n",
    "populationChallenge2 <- readLines(\"./challenges/challenge2.N\")\n",
    "\n",
    "output <- \"./challenges/challenge2.mrate\"\n",
    "\n",
    "mrate_vector <- c(1:length(dataChallenge2))\n",
    "\n",
    "if (FALSE) {    \n",
    "    for (i in 1:length(dataChallenge2)) {\n",
    "        data <- scan(text = dataChallenge2[i], sep = \",\")\n",
    "        sample_file <- writeLines(as.character(data), \"temporary.txt\")\n",
    "        fmutant <- as.double(fitnessChallenge2[i])\n",
    "        d0 <- as.double(deathChallenge2[i])\n",
    "        p <- as.double(samplingChallenge2[i])\n",
    "        N <- as.double(populationChallenge2[i])\n",
    "\n",
    "        mu_infere <- inference_dichotomique_parametre(10, N, d0, fmutant, p, \"temporary.txt\")\n",
    "        print(mu_infere)\n",
    "        mrate_vector[i] <- mu_infere \n",
    "    }\n",
    "\n",
    "    writeLines(as.character(mrate_vector), output, append = TRUE)\n",
    "}\n",
    "\n"
   ]
  },
  {
   "cell_type": "code",
   "execution_count": 64,
   "id": "ae1de24c",
   "metadata": {},
   "outputs": [
    {
     "name": "stdout",
     "output_type": "stream",
     "text": [
      "[1] 0.04947917\n",
      "[1] 8.007505e-08\n"
     ]
    }
   ],
   "source": [
    "data <- scan(text = dataChallenge2[3], sep = \",\")\n",
    "sample_file <- writeLines(as.character(data), \"temporary.txt\")\n",
    "fmutant <- as.double(fitnessChallenge2[3])\n",
    "d0 <- as.double(deathChallenge2[3])\n",
    "p <- as.double(samplingChallenge2[3])\n",
    "N <- as.double(populationChallenge2[3])\n",
    "\n",
    "mu_infere <- inference_dichotomique_parametre(10, N, d0, fmutant, p, \"temporary.txt\")\n",
    "print(mu_infere)"
   ]
  },
  {
   "cell_type": "code",
   "execution_count": null,
   "id": "8a793780",
   "metadata": {},
   "outputs": [],
   "source": [
    "output2 <- \"./challenges/challenge2_retrec_intervalle.mrate\"\n",
    "\n",
    "mrate_vector2 <- c(1:length(dataChallenge2))\n",
    "\n",
    "if (TRUE) {    \n",
    "    for (i in 1:length(dataChallenge2)) {\n",
    "        data <- scan(text = dataChallenge2[i], sep = \",\")\n",
    "        sample_file <- writeLines(as.character(data), \"temporary.txt\")\n",
    "        fmutant <- as.double(fitnessChallenge2[i])\n",
    "        d0 <- as.double(deathChallenge2[i])\n",
    "        p <- as.double(samplingChallenge2[i])\n",
    "        N <- as.double(populationChallenge2[i])\n",
    "\n",
    "        mu_infere <- inference_retrec_interval(10, N, d0, fmutant, p, \"temporary.txt\", cost_function)\n",
    "        print(mu_infere)\n",
    "        mrate_vector2[i] <- mu_infere \n",
    "    }\n",
    "\n",
    "    writeLines(as.character(mrate_vector2), output2)\n",
    "}\n"
   ]
  },
  {
   "cell_type": "code",
   "execution_count": 723,
   "id": "03bc07ea",
   "metadata": {},
   "outputs": [
    {
     "data": {
      "text/html": [
       "1.49665018432878e-07"
      ],
      "text/latex": [
       "1.49665018432878e-07"
      ],
      "text/markdown": [
       "1.49665018432878e-07"
      ],
      "text/plain": [
       "[1] 1.49665e-07"
      ]
     },
     "metadata": {},
     "output_type": "display_data"
    }
   ],
   "source": [
    "inference_abc <- function(N0,N1,d0,fmutant,p,sample_file) {\n",
    "    library(abc)\n",
    "    reference_data <- scan(sample_file,quiet=TRUE)\n",
    "\n",
    "    mu_median <- median(reference_data)/N1\n",
    "\n",
    "    filter = 10*median(reference_data)\n",
    "\n",
    "    tol = 0.1\n",
    "    n_sim = 1000\n",
    "    n_param = 1\n",
    "\n",
    "    prior <- function(n) runif(n, 10^(log10(mu_median) - 1), 10^(log10(mu_median) + 1))\n",
    "\n",
    "    modele <- function(mu) {\n",
    "        commande <- sprintf(\"./atreyu_forward_simulator %e,%e %e %e %e %e 384 > TauxMutation.txt ; cut -d' ' -f1 TauxMutation.txt > TauxMutation2.txt\", N0, N1, d0, mu, fmutant, p)\n",
    "        system(commande)\n",
    "        generated_data <- scan(\"TauxMutation2.txt\")\n",
    "        return (mean(generated_data[generated_data<filter]))\n",
    "    }\n",
    "\n",
    "    param <- matrix(prior(n_sim * n_param), ncol = n_param)\n",
    "    sumstat <- matrix(apply(param, 1, modele), ncol = 1)\n",
    "\n",
    "    abc_out <- suppressWarnings(abc(target = mean(reference_data[reference_data<filter]), param = param, sumstat = sumstat, method = \"loclinear\", tol = tol))\n",
    "\n",
    "    return(mean(abc_out$adj.values))\n",
    "}\n",
    "\n",
    "inference_abc(10, 1e7, 0, 0.7, 1, \"datachallengeA\")\n",
    "\n"
   ]
  },
  {
   "cell_type": "code",
   "execution_count": 725,
   "id": "0fea4ebf",
   "metadata": {},
   "outputs": [],
   "source": [
    "number_of_tests = 50\n",
    "\n",
    "squared_error_dichotomy = c(1:number_of_tests)\n",
    "squared_error_grad_decent = c(1:number_of_tests)\n",
    "squared_error_retrec_interval = c(1:number_of_tests)\n",
    "squared_error_metropolis_hasting = c(1:number_of_tests)\n",
    "squared_error_abc = c(1:number_of_tests)\n",
    "execution_time_dichotomy = c(1:number_of_tests)\n",
    "execution_time_grad_decent = c(1:number_of_tests)\n",
    "execution_time_retrec_interval = c(1:number_of_tests)\n",
    "execution_time_metropolis_hasting = c(1:number_of_tests)\n",
    "execution_time_abc = c(1:number_of_tests)\n",
    "\n",
    "for (i in 1:number_of_tests) {\n",
    "    parameters = jeu_donnees_parameters_matrix[i,]\n",
    "    \n",
    "    duration_dichotomie <- system.time({\n",
    "        result = inference_dichotomique_parametre(parameters[1], parameters[2], parameters[3], parameters[5], 1, jeu_donnees_files[i])\n",
    "    })\n",
    "    squared_error_dichotomy[i] = (result - parameters[4])*(result - parameters[4])/parameters[4]/parameters[4]\n",
    "    execution_time_dichotomy[i] = as.double(duration_dichotomie[1]) + as.double(duration_dichotomie[4])\n",
    "    \n",
    "    duration_grad_decent <- system.time({\n",
    "        result = inference_gradient_decent_log(parameters[1], parameters[2], parameters[3], parameters[5], 1, jeu_donnees_files[i], cost_function, cost_function_derivee_log)\n",
    "    })\n",
    "    squared_error_grad_decent[i] = (result - parameters[4])*(result - parameters[4])/parameters[4]/parameters[4]\n",
    "    execution_time_grad_decent[i] = as.double(duration_grad_decent[1]) + as.double(duration_grad_decent[4])\n",
    "    \n",
    "    duration_retrec_interval <- system.time({\n",
    "        result <- inference_retrec_interval(parameters[1], parameters[2], parameters[3], parameters[5], 1, jeu_donnees_files[i], cost_function)\n",
    "    })\n",
    "    squared_error_retrec_interval[i] = (result - parameters[4])*(result - parameters[4])/parameters[4]/parameters[4]\n",
    "    execution_time_retrec_interval[i] = as.double(duration_retrec_interval[1]) + as.double(duration_retrec_interval[4])\n",
    "    \n",
    "    duration_metropolis_hasting <- system.time({\n",
    "        result <- inference_metropolis_hasting(parameters[1], parameters[2], parameters[3], parameters[5], 1, jeu_donnees_files[i])\n",
    "    })\n",
    "    squared_error_metropolis_hasting[i] = (result - parameters[4])*(result - parameters[4])/parameters[4]/parameters[4]\n",
    "    execution_time_metropolis_hasting[i] = as.double(duration_metropolis_hasting[1]) + as.double(duration_metropolis_hasting[4])\n",
    "    \n",
    "    duration_abc <- system.time({\n",
    "        result <- inference_abc(parameters[1], parameters[2], parameters[3], parameters[5], 1, jeu_donnees_files[i])\n",
    "    })\n",
    "    squared_error_abc[i] = (result - parameters[4])*(result - parameters[4])/parameters[4]/parameters[4]\n",
    "    execution_time_abc[i] = as.double(duration_abc[1]) + as.double(duration_abc[4])\n",
    "}\n"
   ]
  },
  {
   "cell_type": "code",
   "execution_count": 728,
   "id": "d1b7d03c",
   "metadata": {},
   "outputs": [
    {
     "data": {
      "text/html": [
       "<strong>png:</strong> 2"
      ],
      "text/latex": [
       "\\textbf{png:} 2"
      ],
      "text/markdown": [
       "**png:** 2"
      ],
      "text/plain": [
       "png \n",
       "  2 "
      ]
     },
     "metadata": {},
     "output_type": "display_data"
    },
    {
     "data": {
      "text/html": [
       "<strong>png:</strong> 2"
      ],
      "text/latex": [
       "\\textbf{png:} 2"
      ],
      "text/markdown": [
       "**png:** 2"
      ],
      "text/plain": [
       "png \n",
       "  2 "
      ]
     },
     "metadata": {},
     "output_type": "display_data"
    }
   ],
   "source": [
    "library(vioplot)\n",
    "\n",
    "violin_plot <- function(names , vecteurs, separateur, xLab, yLab, filename, width = 800, height = 600){\n",
    "    data <- data.frame(\n",
    "        group = rep(names, each = separateur),\n",
    "        value = vecteurs\n",
    "    )\n",
    "    png(filename = filename, width = width, height = height, units = \"px\", res = 72)\n",
    "    vioplot(data$value ~ data$group, col = \"blue\", xlab = xLab, ylab = yLab)\n",
    "    dev.off()\n",
    "}\n",
    "\n",
    "\n",
    "violin_plot(c(\"Dichotomie\", \"Grad descent\", \"Retrec Intervalle\", \"Metropolis Hasting\", \"ABC\"), c(squared_error_dichotomy, squared_error_grad_decent, squared_error_retrec_interval, squared_error_metropolis_hasting, squared_error_abc), number_of_tests, \"methods\", \"squared error\", \"squared_error_all.png\")\n",
    "\n",
    "violin_plot(c(\"Dichotomie\", \"Grad descent\", \"Retrec Intervalle\", \"Metropolis Hasting\", \"ABC\"), c(execution_time_dichotomy, execution_time_grad_decent, execution_time_retrec_interval, execution_time_metropolis_hasting, execution_time_abc), number_of_tests, \"methods\", \"execution time\", \"execution_time_all.png\")"
   ]
  },
  {
   "cell_type": "code",
   "execution_count": 730,
   "id": "55f41a9c",
   "metadata": {},
   "outputs": [
    {
     "data": {
      "text/html": [
       "<strong>png:</strong> 2"
      ],
      "text/latex": [
       "\\textbf{png:} 2"
      ],
      "text/markdown": [
       "**png:** 2"
      ],
      "text/plain": [
       "png \n",
       "  2 "
      ]
     },
     "metadata": {},
     "output_type": "display_data"
    },
    {
     "data": {
      "text/html": [
       "<strong>png:</strong> 2"
      ],
      "text/latex": [
       "\\textbf{png:} 2"
      ],
      "text/markdown": [
       "**png:** 2"
      ],
      "text/plain": [
       "png \n",
       "  2 "
      ]
     },
     "metadata": {},
     "output_type": "display_data"
    }
   ],
   "source": [
    "violin_plot(c(\"Dichotomie\",\"Retrec Intervalle\", \"Gradient descent\", \"ABC\"), c(squared_error_dichotomy, squared_error_retrec_interval, squared_error_grad_decent, squared_error_abc), number_of_tests, \"methods\", \"squared error\", \"squared_error_4_methods.png\")\n",
    "\n",
    "violin_plot(c(\"Dichotomie\", \"Grad descent\", \"Retrec Intervalle\"), c(execution_time_dichotomy, execution_time_grad_decent, execution_time_retrec_interval), number_of_tests, \"methods\", \"execution time\", \"execution_time_3_methods.png\")"
   ]
  },
  {
   "cell_type": "code",
   "execution_count": 731,
   "id": "0c69da1e",
   "metadata": {},
   "outputs": [
    {
     "data": {
      "text/html": [
       "<strong>png:</strong> 2"
      ],
      "text/latex": [
       "\\textbf{png:} 2"
      ],
      "text/markdown": [
       "**png:** 2"
      ],
      "text/plain": [
       "png \n",
       "  2 "
      ]
     },
     "metadata": {},
     "output_type": "display_data"
    }
   ],
   "source": [
    "violin_plot(c(\"Dichotomie\", \"Gradient descent\", \"ABC\"), c(squared_error_dichotomy, squared_error_grad_decent, squared_error_abc), number_of_tests, \"methods\", \"squared error\", \"squared_error_3_methods.png\")"
   ]
  },
  {
   "cell_type": "code",
   "execution_count": 618,
   "id": "a778c166",
   "metadata": {},
   "outputs": [],
   "source": [
    "writeLines(as.character(squared_error_grad_decent), \"squared_error_gradient_decent.txt\")"
   ]
  }
 ],
 "metadata": {
  "kernelspec": {
   "display_name": "R",
   "language": "R",
   "name": "ir"
  },
  "language_info": {
   "codemirror_mode": "r",
   "file_extension": ".r",
   "mimetype": "text/x-r-source",
   "name": "R",
   "pygments_lexer": "r",
   "version": "4.1.2"
  }
 },
 "nbformat": 4,
 "nbformat_minor": 5
}
